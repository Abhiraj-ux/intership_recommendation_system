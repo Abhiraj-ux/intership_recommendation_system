{
 "cells": [
  {
   "cell_type": "code",
   "execution_count": 2,
   "metadata": {
    "id": "oQNK4a-52RZy"
   },
   "outputs": [],
   "source": [
    "import pandas as pd\n",
    "import numpy as np\n",
    "import re\n",
    "df_students=pd.read_csv('students_india.csv')\n",
    "df_internships=pd.read_csv('internships_india.csv')"
   ]
  },
  {
   "cell_type": "code",
   "execution_count": 3,
   "metadata": {
    "colab": {
     "base_uri": "https://localhost:8080/",
     "height": 206
    },
    "id": "G7743sCe2nCB",
    "outputId": "bde77323-86f5-42da-a4d2-201e59409a8b"
   },
   "outputs": [
    {
     "data": {
      "text/html": [
       "<div>\n",
       "<style scoped>\n",
       "    .dataframe tbody tr th:only-of-type {\n",
       "        vertical-align: middle;\n",
       "    }\n",
       "\n",
       "    .dataframe tbody tr th {\n",
       "        vertical-align: top;\n",
       "    }\n",
       "\n",
       "    .dataframe thead th {\n",
       "        text-align: right;\n",
       "    }\n",
       "</style>\n",
       "<table border=\"1\" class=\"dataframe\">\n",
       "  <thead>\n",
       "    <tr style=\"text-align: right;\">\n",
       "      <th></th>\n",
       "      <th>id</th>\n",
       "      <th>name</th>\n",
       "      <th>skills</th>\n",
       "      <th>location</th>\n",
       "      <th>stipend</th>\n",
       "    </tr>\n",
       "  </thead>\n",
       "  <tbody>\n",
       "    <tr>\n",
       "      <th>0</th>\n",
       "      <td>1</td>\n",
       "      <td>Sakshi0</td>\n",
       "      <td>SQL, Marketing, Python, Java, Finance</td>\n",
       "      <td>Jaipur</td>\n",
       "      <td>19319</td>\n",
       "    </tr>\n",
       "    <tr>\n",
       "      <th>1</th>\n",
       "      <td>2</td>\n",
       "      <td>Karan1</td>\n",
       "      <td>Machine Learning, React, Java, Marketing, Node.js</td>\n",
       "      <td>Mumbai</td>\n",
       "      <td>18037</td>\n",
       "    </tr>\n",
       "    <tr>\n",
       "      <th>2</th>\n",
       "      <td>3</td>\n",
       "      <td>Meera2</td>\n",
       "      <td>C++, React, Machine Learning, Marketing, Java</td>\n",
       "      <td>Noida</td>\n",
       "      <td>11576</td>\n",
       "    </tr>\n",
       "    <tr>\n",
       "      <th>3</th>\n",
       "      <td>4</td>\n",
       "      <td>Aditi3</td>\n",
       "      <td>SQL, Java</td>\n",
       "      <td>Kolkata</td>\n",
       "      <td>18557</td>\n",
       "    </tr>\n",
       "    <tr>\n",
       "      <th>4</th>\n",
       "      <td>5</td>\n",
       "      <td>Aman4</td>\n",
       "      <td>React, Node.js, Marketing, Python, Machine Lea...</td>\n",
       "      <td>Kolkata</td>\n",
       "      <td>17394</td>\n",
       "    </tr>\n",
       "  </tbody>\n",
       "</table>\n",
       "</div>"
      ],
      "text/plain": [
       "   id     name                                             skills location  \\\n",
       "0   1  Sakshi0              SQL, Marketing, Python, Java, Finance   Jaipur   \n",
       "1   2   Karan1  Machine Learning, React, Java, Marketing, Node.js   Mumbai   \n",
       "2   3   Meera2      C++, React, Machine Learning, Marketing, Java    Noida   \n",
       "3   4   Aditi3                                          SQL, Java  Kolkata   \n",
       "4   5    Aman4  React, Node.js, Marketing, Python, Machine Lea...  Kolkata   \n",
       "\n",
       "   stipend  \n",
       "0    19319  \n",
       "1    18037  \n",
       "2    11576  \n",
       "3    18557  \n",
       "4    17394  "
      ]
     },
     "execution_count": 3,
     "metadata": {},
     "output_type": "execute_result"
    }
   ],
   "source": [
    "df_students.head()"
   ]
  },
  {
   "cell_type": "code",
   "execution_count": 4,
   "metadata": {
    "colab": {
     "base_uri": "https://localhost:8080/",
     "height": 206
    },
    "id": "PWJDVk0z23XH",
    "outputId": "54a8a3f9-bad1-4866-e2e2-352787b2168d"
   },
   "outputs": [
    {
     "data": {
      "text/html": [
       "<div>\n",
       "<style scoped>\n",
       "    .dataframe tbody tr th:only-of-type {\n",
       "        vertical-align: middle;\n",
       "    }\n",
       "\n",
       "    .dataframe tbody tr th {\n",
       "        vertical-align: top;\n",
       "    }\n",
       "\n",
       "    .dataframe thead th {\n",
       "        text-align: right;\n",
       "    }\n",
       "</style>\n",
       "<table border=\"1\" class=\"dataframe\">\n",
       "  <thead>\n",
       "    <tr style=\"text-align: right;\">\n",
       "      <th></th>\n",
       "      <th>id</th>\n",
       "      <th>company_name</th>\n",
       "      <th>skills_required</th>\n",
       "      <th>location</th>\n",
       "      <th>stipend</th>\n",
       "      <th>duration</th>\n",
       "      <th>apply_link</th>\n",
       "    </tr>\n",
       "  </thead>\n",
       "  <tbody>\n",
       "    <tr>\n",
       "      <th>0</th>\n",
       "      <td>1</td>\n",
       "      <td>Wipro</td>\n",
       "      <td>Python, Node.js, React</td>\n",
       "      <td>Bangalore</td>\n",
       "      <td>20380</td>\n",
       "      <td>1 month</td>\n",
       "      <td>https://apply.wipro.com/0</td>\n",
       "    </tr>\n",
       "    <tr>\n",
       "      <th>1</th>\n",
       "      <td>2</td>\n",
       "      <td>Paytm</td>\n",
       "      <td>Node.js, React</td>\n",
       "      <td>Ahmedabad</td>\n",
       "      <td>8838</td>\n",
       "      <td>5 months</td>\n",
       "      <td>https://apply.paytm.com/1</td>\n",
       "    </tr>\n",
       "    <tr>\n",
       "      <th>2</th>\n",
       "      <td>3</td>\n",
       "      <td>Swiggy</td>\n",
       "      <td>Java, Communication, React</td>\n",
       "      <td>Jaipur</td>\n",
       "      <td>16146</td>\n",
       "      <td>2 months</td>\n",
       "      <td>https://apply.swiggy.com/2</td>\n",
       "    </tr>\n",
       "    <tr>\n",
       "      <th>3</th>\n",
       "      <td>4</td>\n",
       "      <td>Infosys</td>\n",
       "      <td>Node.js, Finance</td>\n",
       "      <td>Ahmedabad</td>\n",
       "      <td>21684</td>\n",
       "      <td>5 months</td>\n",
       "      <td>https://apply.infosys.com/3</td>\n",
       "    </tr>\n",
       "    <tr>\n",
       "      <th>4</th>\n",
       "      <td>5</td>\n",
       "      <td>Swiggy</td>\n",
       "      <td>Marketing, React, C++, Excel</td>\n",
       "      <td>Bangalore</td>\n",
       "      <td>12064</td>\n",
       "      <td>4 months</td>\n",
       "      <td>https://apply.swiggy.com/4</td>\n",
       "    </tr>\n",
       "  </tbody>\n",
       "</table>\n",
       "</div>"
      ],
      "text/plain": [
       "   id company_name               skills_required   location  stipend  \\\n",
       "0   1        Wipro        Python, Node.js, React  Bangalore    20380   \n",
       "1   2        Paytm                Node.js, React  Ahmedabad     8838   \n",
       "2   3       Swiggy    Java, Communication, React     Jaipur    16146   \n",
       "3   4      Infosys              Node.js, Finance  Ahmedabad    21684   \n",
       "4   5       Swiggy  Marketing, React, C++, Excel  Bangalore    12064   \n",
       "\n",
       "   duration                   apply_link  \n",
       "0   1 month    https://apply.wipro.com/0  \n",
       "1  5 months    https://apply.paytm.com/1  \n",
       "2  2 months   https://apply.swiggy.com/2  \n",
       "3  5 months  https://apply.infosys.com/3  \n",
       "4  4 months   https://apply.swiggy.com/4  "
      ]
     },
     "execution_count": 4,
     "metadata": {},
     "output_type": "execute_result"
    }
   ],
   "source": [
    "df_internships.head()"
   ]
  },
  {
   "cell_type": "code",
   "execution_count": 5,
   "metadata": {
    "id": "ySg8Bkwd29Hc"
   },
   "outputs": [],
   "source": [
    "df_students.drop(['name'],axis=1,inplace=True)"
   ]
  },
  {
   "cell_type": "code",
   "execution_count": 6,
   "metadata": {
    "colab": {
     "base_uri": "https://localhost:8080/",
     "height": 206
    },
    "id": "G4kKwrp33XCU",
    "outputId": "79f18261-b579-4905-bdb2-ee42fb455dc0"
   },
   "outputs": [
    {
     "data": {
      "text/html": [
       "<div>\n",
       "<style scoped>\n",
       "    .dataframe tbody tr th:only-of-type {\n",
       "        vertical-align: middle;\n",
       "    }\n",
       "\n",
       "    .dataframe tbody tr th {\n",
       "        vertical-align: top;\n",
       "    }\n",
       "\n",
       "    .dataframe thead th {\n",
       "        text-align: right;\n",
       "    }\n",
       "</style>\n",
       "<table border=\"1\" class=\"dataframe\">\n",
       "  <thead>\n",
       "    <tr style=\"text-align: right;\">\n",
       "      <th></th>\n",
       "      <th>id</th>\n",
       "      <th>skills</th>\n",
       "      <th>location</th>\n",
       "      <th>stipend</th>\n",
       "    </tr>\n",
       "  </thead>\n",
       "  <tbody>\n",
       "    <tr>\n",
       "      <th>0</th>\n",
       "      <td>1</td>\n",
       "      <td>SQL, Marketing, Python, Java, Finance</td>\n",
       "      <td>Jaipur</td>\n",
       "      <td>19319</td>\n",
       "    </tr>\n",
       "    <tr>\n",
       "      <th>1</th>\n",
       "      <td>2</td>\n",
       "      <td>Machine Learning, React, Java, Marketing, Node.js</td>\n",
       "      <td>Mumbai</td>\n",
       "      <td>18037</td>\n",
       "    </tr>\n",
       "    <tr>\n",
       "      <th>2</th>\n",
       "      <td>3</td>\n",
       "      <td>C++, React, Machine Learning, Marketing, Java</td>\n",
       "      <td>Noida</td>\n",
       "      <td>11576</td>\n",
       "    </tr>\n",
       "    <tr>\n",
       "      <th>3</th>\n",
       "      <td>4</td>\n",
       "      <td>SQL, Java</td>\n",
       "      <td>Kolkata</td>\n",
       "      <td>18557</td>\n",
       "    </tr>\n",
       "    <tr>\n",
       "      <th>4</th>\n",
       "      <td>5</td>\n",
       "      <td>React, Node.js, Marketing, Python, Machine Lea...</td>\n",
       "      <td>Kolkata</td>\n",
       "      <td>17394</td>\n",
       "    </tr>\n",
       "  </tbody>\n",
       "</table>\n",
       "</div>"
      ],
      "text/plain": [
       "   id                                             skills location  stipend\n",
       "0   1              SQL, Marketing, Python, Java, Finance   Jaipur    19319\n",
       "1   2  Machine Learning, React, Java, Marketing, Node.js   Mumbai    18037\n",
       "2   3      C++, React, Machine Learning, Marketing, Java    Noida    11576\n",
       "3   4                                          SQL, Java  Kolkata    18557\n",
       "4   5  React, Node.js, Marketing, Python, Machine Lea...  Kolkata    17394"
      ]
     },
     "execution_count": 6,
     "metadata": {},
     "output_type": "execute_result"
    }
   ],
   "source": [
    "df_students.head()"
   ]
  },
  {
   "cell_type": "code",
   "execution_count": 7,
   "metadata": {
    "colab": {
     "base_uri": "https://localhost:8080/",
     "height": 423
    },
    "id": "XeXrsHDi3Z6Z",
    "outputId": "492bdf30-bafe-4386-fa95-475916578f42"
   },
   "outputs": [
    {
     "data": {
      "text/html": [
       "<div>\n",
       "<style scoped>\n",
       "    .dataframe tbody tr th:only-of-type {\n",
       "        vertical-align: middle;\n",
       "    }\n",
       "\n",
       "    .dataframe tbody tr th {\n",
       "        vertical-align: top;\n",
       "    }\n",
       "\n",
       "    .dataframe thead th {\n",
       "        text-align: right;\n",
       "    }\n",
       "</style>\n",
       "<table border=\"1\" class=\"dataframe\">\n",
       "  <thead>\n",
       "    <tr style=\"text-align: right;\">\n",
       "      <th></th>\n",
       "      <th>id</th>\n",
       "      <th>skills</th>\n",
       "      <th>location</th>\n",
       "      <th>stipend</th>\n",
       "    </tr>\n",
       "  </thead>\n",
       "  <tbody>\n",
       "    <tr>\n",
       "      <th>0</th>\n",
       "      <td>1</td>\n",
       "      <td>SQL, Marketing, Python, Java, Finance</td>\n",
       "      <td>Jaipur</td>\n",
       "      <td>19319</td>\n",
       "    </tr>\n",
       "    <tr>\n",
       "      <th>1</th>\n",
       "      <td>2</td>\n",
       "      <td>Machine Learning, React, Java, Marketing, Node.js</td>\n",
       "      <td>Mumbai</td>\n",
       "      <td>18037</td>\n",
       "    </tr>\n",
       "    <tr>\n",
       "      <th>2</th>\n",
       "      <td>3</td>\n",
       "      <td>C++, React, Machine Learning, Marketing, Java</td>\n",
       "      <td>Noida</td>\n",
       "      <td>11576</td>\n",
       "    </tr>\n",
       "    <tr>\n",
       "      <th>3</th>\n",
       "      <td>4</td>\n",
       "      <td>SQL, Java</td>\n",
       "      <td>Kolkata</td>\n",
       "      <td>18557</td>\n",
       "    </tr>\n",
       "    <tr>\n",
       "      <th>4</th>\n",
       "      <td>5</td>\n",
       "      <td>React, Node.js, Marketing, Python, Machine Lea...</td>\n",
       "      <td>Kolkata</td>\n",
       "      <td>17394</td>\n",
       "    </tr>\n",
       "    <tr>\n",
       "      <th>...</th>\n",
       "      <td>...</td>\n",
       "      <td>...</td>\n",
       "      <td>...</td>\n",
       "      <td>...</td>\n",
       "    </tr>\n",
       "    <tr>\n",
       "      <th>9995</th>\n",
       "      <td>9996</td>\n",
       "      <td>Marketing, Python</td>\n",
       "      <td>Chennai</td>\n",
       "      <td>16117</td>\n",
       "    </tr>\n",
       "    <tr>\n",
       "      <th>9996</th>\n",
       "      <td>9997</td>\n",
       "      <td>Machine Learning, SQL</td>\n",
       "      <td>Delhi</td>\n",
       "      <td>5659</td>\n",
       "    </tr>\n",
       "    <tr>\n",
       "      <th>9997</th>\n",
       "      <td>9998</td>\n",
       "      <td>Node.js, Machine Learning, React</td>\n",
       "      <td>Kolkata</td>\n",
       "      <td>21888</td>\n",
       "    </tr>\n",
       "    <tr>\n",
       "      <th>9998</th>\n",
       "      <td>9999</td>\n",
       "      <td>C++, Python, SQL</td>\n",
       "      <td>Chennai</td>\n",
       "      <td>22854</td>\n",
       "    </tr>\n",
       "    <tr>\n",
       "      <th>9999</th>\n",
       "      <td>10000</td>\n",
       "      <td>Python, SQL, Finance</td>\n",
       "      <td>Pune</td>\n",
       "      <td>7452</td>\n",
       "    </tr>\n",
       "  </tbody>\n",
       "</table>\n",
       "<p>10000 rows × 4 columns</p>\n",
       "</div>"
      ],
      "text/plain": [
       "         id                                             skills location  \\\n",
       "0         1              SQL, Marketing, Python, Java, Finance   Jaipur   \n",
       "1         2  Machine Learning, React, Java, Marketing, Node.js   Mumbai   \n",
       "2         3      C++, React, Machine Learning, Marketing, Java    Noida   \n",
       "3         4                                          SQL, Java  Kolkata   \n",
       "4         5  React, Node.js, Marketing, Python, Machine Lea...  Kolkata   \n",
       "...     ...                                                ...      ...   \n",
       "9995   9996                                  Marketing, Python  Chennai   \n",
       "9996   9997                              Machine Learning, SQL    Delhi   \n",
       "9997   9998                   Node.js, Machine Learning, React  Kolkata   \n",
       "9998   9999                                   C++, Python, SQL  Chennai   \n",
       "9999  10000                               Python, SQL, Finance     Pune   \n",
       "\n",
       "      stipend  \n",
       "0       19319  \n",
       "1       18037  \n",
       "2       11576  \n",
       "3       18557  \n",
       "4       17394  \n",
       "...       ...  \n",
       "9995    16117  \n",
       "9996     5659  \n",
       "9997    21888  \n",
       "9998    22854  \n",
       "9999     7452  \n",
       "\n",
       "[10000 rows x 4 columns]"
      ]
     },
     "execution_count": 7,
     "metadata": {},
     "output_type": "execute_result"
    }
   ],
   "source": [
    "df_students.dropna()\n"
   ]
  },
  {
   "cell_type": "code",
   "execution_count": 8,
   "metadata": {
    "colab": {
     "base_uri": "https://localhost:8080/",
     "height": 423
    },
    "id": "4vxEj5PM3lQF",
    "outputId": "0180209e-2008-416b-b3e7-1c1c6baed891"
   },
   "outputs": [
    {
     "data": {
      "text/html": [
       "<div>\n",
       "<style scoped>\n",
       "    .dataframe tbody tr th:only-of-type {\n",
       "        vertical-align: middle;\n",
       "    }\n",
       "\n",
       "    .dataframe tbody tr th {\n",
       "        vertical-align: top;\n",
       "    }\n",
       "\n",
       "    .dataframe thead th {\n",
       "        text-align: right;\n",
       "    }\n",
       "</style>\n",
       "<table border=\"1\" class=\"dataframe\">\n",
       "  <thead>\n",
       "    <tr style=\"text-align: right;\">\n",
       "      <th></th>\n",
       "      <th>id</th>\n",
       "      <th>company_name</th>\n",
       "      <th>skills_required</th>\n",
       "      <th>location</th>\n",
       "      <th>stipend</th>\n",
       "      <th>duration</th>\n",
       "      <th>apply_link</th>\n",
       "    </tr>\n",
       "  </thead>\n",
       "  <tbody>\n",
       "    <tr>\n",
       "      <th>0</th>\n",
       "      <td>1</td>\n",
       "      <td>Wipro</td>\n",
       "      <td>Python, Node.js, React</td>\n",
       "      <td>Bangalore</td>\n",
       "      <td>20380</td>\n",
       "      <td>1 month</td>\n",
       "      <td>https://apply.wipro.com/0</td>\n",
       "    </tr>\n",
       "    <tr>\n",
       "      <th>1</th>\n",
       "      <td>2</td>\n",
       "      <td>Paytm</td>\n",
       "      <td>Node.js, React</td>\n",
       "      <td>Ahmedabad</td>\n",
       "      <td>8838</td>\n",
       "      <td>5 months</td>\n",
       "      <td>https://apply.paytm.com/1</td>\n",
       "    </tr>\n",
       "    <tr>\n",
       "      <th>2</th>\n",
       "      <td>3</td>\n",
       "      <td>Swiggy</td>\n",
       "      <td>Java, Communication, React</td>\n",
       "      <td>Jaipur</td>\n",
       "      <td>16146</td>\n",
       "      <td>2 months</td>\n",
       "      <td>https://apply.swiggy.com/2</td>\n",
       "    </tr>\n",
       "    <tr>\n",
       "      <th>3</th>\n",
       "      <td>4</td>\n",
       "      <td>Infosys</td>\n",
       "      <td>Node.js, Finance</td>\n",
       "      <td>Ahmedabad</td>\n",
       "      <td>21684</td>\n",
       "      <td>5 months</td>\n",
       "      <td>https://apply.infosys.com/3</td>\n",
       "    </tr>\n",
       "    <tr>\n",
       "      <th>4</th>\n",
       "      <td>5</td>\n",
       "      <td>Swiggy</td>\n",
       "      <td>Marketing, React, C++, Excel</td>\n",
       "      <td>Bangalore</td>\n",
       "      <td>12064</td>\n",
       "      <td>4 months</td>\n",
       "      <td>https://apply.swiggy.com/4</td>\n",
       "    </tr>\n",
       "    <tr>\n",
       "      <th>...</th>\n",
       "      <td>...</td>\n",
       "      <td>...</td>\n",
       "      <td>...</td>\n",
       "      <td>...</td>\n",
       "      <td>...</td>\n",
       "      <td>...</td>\n",
       "      <td>...</td>\n",
       "    </tr>\n",
       "    <tr>\n",
       "      <th>9995</th>\n",
       "      <td>9996</td>\n",
       "      <td>Flipkart</td>\n",
       "      <td>Marketing, Java, Finance</td>\n",
       "      <td>Noida</td>\n",
       "      <td>12023</td>\n",
       "      <td>5 months</td>\n",
       "      <td>https://apply.flipkart.com/9995</td>\n",
       "    </tr>\n",
       "    <tr>\n",
       "      <th>9996</th>\n",
       "      <td>9997</td>\n",
       "      <td>TCS</td>\n",
       "      <td>Java, Marketing</td>\n",
       "      <td>Delhi</td>\n",
       "      <td>18445</td>\n",
       "      <td>1 month</td>\n",
       "      <td>https://apply.tcs.com/9996</td>\n",
       "    </tr>\n",
       "    <tr>\n",
       "      <th>9997</th>\n",
       "      <td>9998</td>\n",
       "      <td>Razorpay</td>\n",
       "      <td>SQL, Python, Marketing, React</td>\n",
       "      <td>Kolkata</td>\n",
       "      <td>5860</td>\n",
       "      <td>2 months</td>\n",
       "      <td>https://apply.razorpay.com/9997</td>\n",
       "    </tr>\n",
       "    <tr>\n",
       "      <th>9998</th>\n",
       "      <td>9999</td>\n",
       "      <td>Zomato</td>\n",
       "      <td>Python, Machine Learning</td>\n",
       "      <td>Noida</td>\n",
       "      <td>10572</td>\n",
       "      <td>2 months</td>\n",
       "      <td>https://apply.zomato.com/9998</td>\n",
       "    </tr>\n",
       "    <tr>\n",
       "      <th>9999</th>\n",
       "      <td>10000</td>\n",
       "      <td>Infosys</td>\n",
       "      <td>Node.js, SQL, Excel, Machine Learning</td>\n",
       "      <td>Noida</td>\n",
       "      <td>18027</td>\n",
       "      <td>3 months</td>\n",
       "      <td>https://apply.infosys.com/9999</td>\n",
       "    </tr>\n",
       "  </tbody>\n",
       "</table>\n",
       "<p>10000 rows × 7 columns</p>\n",
       "</div>"
      ],
      "text/plain": [
       "         id company_name                        skills_required   location  \\\n",
       "0         1        Wipro                 Python, Node.js, React  Bangalore   \n",
       "1         2        Paytm                         Node.js, React  Ahmedabad   \n",
       "2         3       Swiggy             Java, Communication, React     Jaipur   \n",
       "3         4      Infosys                       Node.js, Finance  Ahmedabad   \n",
       "4         5       Swiggy           Marketing, React, C++, Excel  Bangalore   \n",
       "...     ...          ...                                    ...        ...   \n",
       "9995   9996     Flipkart               Marketing, Java, Finance      Noida   \n",
       "9996   9997          TCS                        Java, Marketing      Delhi   \n",
       "9997   9998     Razorpay          SQL, Python, Marketing, React    Kolkata   \n",
       "9998   9999       Zomato               Python, Machine Learning      Noida   \n",
       "9999  10000      Infosys  Node.js, SQL, Excel, Machine Learning      Noida   \n",
       "\n",
       "      stipend  duration                       apply_link  \n",
       "0       20380   1 month        https://apply.wipro.com/0  \n",
       "1        8838  5 months        https://apply.paytm.com/1  \n",
       "2       16146  2 months       https://apply.swiggy.com/2  \n",
       "3       21684  5 months      https://apply.infosys.com/3  \n",
       "4       12064  4 months       https://apply.swiggy.com/4  \n",
       "...       ...       ...                              ...  \n",
       "9995    12023  5 months  https://apply.flipkart.com/9995  \n",
       "9996    18445   1 month       https://apply.tcs.com/9996  \n",
       "9997     5860  2 months  https://apply.razorpay.com/9997  \n",
       "9998    10572  2 months    https://apply.zomato.com/9998  \n",
       "9999    18027  3 months   https://apply.infosys.com/9999  \n",
       "\n",
       "[10000 rows x 7 columns]"
      ]
     },
     "execution_count": 8,
     "metadata": {},
     "output_type": "execute_result"
    }
   ],
   "source": [
    "df_internships.dropna()"
   ]
  },
  {
   "cell_type": "code",
   "execution_count": 9,
   "metadata": {
    "colab": {
     "base_uri": "https://localhost:8080/"
    },
    "id": "jnKOrtm-36EJ",
    "outputId": "48178155-58ea-4900-ae0b-c99d9941cd5c"
   },
   "outputs": [
    {
     "data": {
      "text/plain": [
       "(10000, 4)"
      ]
     },
     "execution_count": 9,
     "metadata": {},
     "output_type": "execute_result"
    }
   ],
   "source": [
    "df_students.shape"
   ]
  },
  {
   "cell_type": "code",
   "execution_count": 10,
   "metadata": {
    "colab": {
     "base_uri": "https://localhost:8080/"
    },
    "id": "ajOc43XM6aNs",
    "outputId": "3e2fcacb-d482-4a95-af70-2bb6d2a4bda6"
   },
   "outputs": [
    {
     "data": {
      "text/plain": [
       "(10000, 7)"
      ]
     },
     "execution_count": 10,
     "metadata": {},
     "output_type": "execute_result"
    }
   ],
   "source": [
    "df_internships.shape"
   ]
  },
  {
   "cell_type": "code",
   "execution_count": 11,
   "metadata": {
    "colab": {
     "base_uri": "https://localhost:8080/",
     "height": 209
    },
    "id": "Z6T5tdp76eEp",
    "outputId": "428ceb6c-0eee-4833-b246-16a332bc4bd3"
   },
   "outputs": [
    {
     "data": {
      "text/plain": [
       "id          0\n",
       "skills      0\n",
       "location    0\n",
       "stipend     0\n",
       "dtype: int64"
      ]
     },
     "execution_count": 11,
     "metadata": {},
     "output_type": "execute_result"
    }
   ],
   "source": [
    "df_students.isnull().sum()"
   ]
  },
  {
   "cell_type": "code",
   "execution_count": 12,
   "metadata": {
    "colab": {
     "base_uri": "https://localhost:8080/",
     "height": 303
    },
    "id": "UncdXgUz6nxJ",
    "outputId": "09bd49bc-e363-4cc9-c5f7-e9cf51fff761"
   },
   "outputs": [
    {
     "data": {
      "text/plain": [
       "id                 0\n",
       "company_name       0\n",
       "skills_required    0\n",
       "location           0\n",
       "stipend            0\n",
       "duration           0\n",
       "apply_link         0\n",
       "dtype: int64"
      ]
     },
     "execution_count": 12,
     "metadata": {},
     "output_type": "execute_result"
    }
   ],
   "source": [
    "df_internships.isnull().sum()"
   ]
  },
  {
   "cell_type": "code",
   "execution_count": 13,
   "metadata": {
    "colab": {
     "base_uri": "https://localhost:8080/"
    },
    "id": "N4Kccmz96qYr",
    "outputId": "264d0315-07bf-4461-cfde-eea2470ffccb"
   },
   "outputs": [
    {
     "name": "stdout",
     "output_type": "stream",
     "text": [
      "<class 'pandas.core.frame.DataFrame'>\n",
      "RangeIndex: 10000 entries, 0 to 9999\n",
      "Data columns (total 4 columns):\n",
      " #   Column    Non-Null Count  Dtype \n",
      "---  ------    --------------  ----- \n",
      " 0   id        10000 non-null  int64 \n",
      " 1   skills    10000 non-null  object\n",
      " 2   location  10000 non-null  object\n",
      " 3   stipend   10000 non-null  int64 \n",
      "dtypes: int64(2), object(2)\n",
      "memory usage: 312.6+ KB\n"
     ]
    }
   ],
   "source": [
    "df_students.info()"
   ]
  },
  {
   "cell_type": "code",
   "execution_count": 14,
   "metadata": {
    "colab": {
     "base_uri": "https://localhost:8080/"
    },
    "id": "nw5-XgmL66Fb",
    "outputId": "52434e2e-e9ce-4d32-9820-dbded599d8bf"
   },
   "outputs": [
    {
     "name": "stdout",
     "output_type": "stream",
     "text": [
      "<class 'pandas.core.frame.DataFrame'>\n",
      "RangeIndex: 10000 entries, 0 to 9999\n",
      "Data columns (total 7 columns):\n",
      " #   Column           Non-Null Count  Dtype \n",
      "---  ------           --------------  ----- \n",
      " 0   id               10000 non-null  int64 \n",
      " 1   company_name     10000 non-null  object\n",
      " 2   skills_required  10000 non-null  object\n",
      " 3   location         10000 non-null  object\n",
      " 4   stipend          10000 non-null  int64 \n",
      " 5   duration         10000 non-null  object\n",
      " 6   apply_link       10000 non-null  object\n",
      "dtypes: int64(2), object(5)\n",
      "memory usage: 547.0+ KB\n"
     ]
    }
   ],
   "source": [
    "df_internships.info()"
   ]
  },
  {
   "cell_type": "code",
   "execution_count": 15,
   "metadata": {
    "id": "yMSnnMKx7PEp"
   },
   "outputs": [],
   "source": [
    "for col in df_students.select_dtypes(include=['object']).columns:\n",
    "    df_students[col] = df_students[col].str.replace('\\t', ' ').str.replace('\\n', ' ')"
   ]
  },
  {
   "cell_type": "code",
   "execution_count": 16,
   "metadata": {
    "id": "_LOODQmH8xx3"
   },
   "outputs": [],
   "source": [
    "for col in df_students.select_dtypes(include=['object']).columns:\n",
    "    df_students[col] = df_students[col].str.replace('\\r', ' ')"
   ]
  },
  {
   "cell_type": "code",
   "execution_count": 17,
   "metadata": {
    "id": "o6xd_fHx83Ch"
   },
   "outputs": [],
   "source": [
    "for col in df_internships.select_dtypes(include=['object']).columns:\n",
    "    df_internships[col] = df_internships[col].str.replace('\\t', ' ').str.replace('\\n', ' ')"
   ]
  },
  {
   "cell_type": "code",
   "execution_count": 18,
   "metadata": {
    "colab": {
     "base_uri": "https://localhost:8080/",
     "height": 206
    },
    "id": "7hB2uQIv9XmE",
    "outputId": "8fbcf8ab-4375-4b62-d958-bcf888a7c274"
   },
   "outputs": [
    {
     "data": {
      "text/html": [
       "<div>\n",
       "<style scoped>\n",
       "    .dataframe tbody tr th:only-of-type {\n",
       "        vertical-align: middle;\n",
       "    }\n",
       "\n",
       "    .dataframe tbody tr th {\n",
       "        vertical-align: top;\n",
       "    }\n",
       "\n",
       "    .dataframe thead th {\n",
       "        text-align: right;\n",
       "    }\n",
       "</style>\n",
       "<table border=\"1\" class=\"dataframe\">\n",
       "  <thead>\n",
       "    <tr style=\"text-align: right;\">\n",
       "      <th></th>\n",
       "      <th>id</th>\n",
       "      <th>skills</th>\n",
       "      <th>location</th>\n",
       "      <th>stipend</th>\n",
       "    </tr>\n",
       "  </thead>\n",
       "  <tbody>\n",
       "    <tr>\n",
       "      <th>0</th>\n",
       "      <td>1</td>\n",
       "      <td>SQL, Marketing, Python, Java, Finance</td>\n",
       "      <td>Jaipur</td>\n",
       "      <td>19319</td>\n",
       "    </tr>\n",
       "    <tr>\n",
       "      <th>1</th>\n",
       "      <td>2</td>\n",
       "      <td>Machine Learning, React, Java, Marketing, Node.js</td>\n",
       "      <td>Mumbai</td>\n",
       "      <td>18037</td>\n",
       "    </tr>\n",
       "    <tr>\n",
       "      <th>2</th>\n",
       "      <td>3</td>\n",
       "      <td>C++, React, Machine Learning, Marketing, Java</td>\n",
       "      <td>Noida</td>\n",
       "      <td>11576</td>\n",
       "    </tr>\n",
       "    <tr>\n",
       "      <th>3</th>\n",
       "      <td>4</td>\n",
       "      <td>SQL, Java</td>\n",
       "      <td>Kolkata</td>\n",
       "      <td>18557</td>\n",
       "    </tr>\n",
       "    <tr>\n",
       "      <th>4</th>\n",
       "      <td>5</td>\n",
       "      <td>React, Node.js, Marketing, Python, Machine Lea...</td>\n",
       "      <td>Kolkata</td>\n",
       "      <td>17394</td>\n",
       "    </tr>\n",
       "  </tbody>\n",
       "</table>\n",
       "</div>"
      ],
      "text/plain": [
       "   id                                             skills location  stipend\n",
       "0   1              SQL, Marketing, Python, Java, Finance   Jaipur    19319\n",
       "1   2  Machine Learning, React, Java, Marketing, Node.js   Mumbai    18037\n",
       "2   3      C++, React, Machine Learning, Marketing, Java    Noida    11576\n",
       "3   4                                          SQL, Java  Kolkata    18557\n",
       "4   5  React, Node.js, Marketing, Python, Machine Lea...  Kolkata    17394"
      ]
     },
     "execution_count": 18,
     "metadata": {},
     "output_type": "execute_result"
    }
   ],
   "source": [
    "df_students.head()"
   ]
  },
  {
   "cell_type": "code",
   "execution_count": 19,
   "metadata": {
    "colab": {
     "base_uri": "https://localhost:8080/",
     "height": 206
    },
    "id": "fDj3dk-G9a5U",
    "outputId": "14699357-7f9b-480c-b514-468209e2cca8"
   },
   "outputs": [
    {
     "data": {
      "text/html": [
       "<div>\n",
       "<style scoped>\n",
       "    .dataframe tbody tr th:only-of-type {\n",
       "        vertical-align: middle;\n",
       "    }\n",
       "\n",
       "    .dataframe tbody tr th {\n",
       "        vertical-align: top;\n",
       "    }\n",
       "\n",
       "    .dataframe thead th {\n",
       "        text-align: right;\n",
       "    }\n",
       "</style>\n",
       "<table border=\"1\" class=\"dataframe\">\n",
       "  <thead>\n",
       "    <tr style=\"text-align: right;\">\n",
       "      <th></th>\n",
       "      <th>id</th>\n",
       "      <th>company_name</th>\n",
       "      <th>skills_required</th>\n",
       "      <th>location</th>\n",
       "      <th>stipend</th>\n",
       "      <th>duration</th>\n",
       "      <th>apply_link</th>\n",
       "    </tr>\n",
       "  </thead>\n",
       "  <tbody>\n",
       "    <tr>\n",
       "      <th>0</th>\n",
       "      <td>1</td>\n",
       "      <td>Wipro</td>\n",
       "      <td>Python, Node.js, React</td>\n",
       "      <td>Bangalore</td>\n",
       "      <td>20380</td>\n",
       "      <td>1 month</td>\n",
       "      <td>https://apply.wipro.com/0</td>\n",
       "    </tr>\n",
       "    <tr>\n",
       "      <th>1</th>\n",
       "      <td>2</td>\n",
       "      <td>Paytm</td>\n",
       "      <td>Node.js, React</td>\n",
       "      <td>Ahmedabad</td>\n",
       "      <td>8838</td>\n",
       "      <td>5 months</td>\n",
       "      <td>https://apply.paytm.com/1</td>\n",
       "    </tr>\n",
       "    <tr>\n",
       "      <th>2</th>\n",
       "      <td>3</td>\n",
       "      <td>Swiggy</td>\n",
       "      <td>Java, Communication, React</td>\n",
       "      <td>Jaipur</td>\n",
       "      <td>16146</td>\n",
       "      <td>2 months</td>\n",
       "      <td>https://apply.swiggy.com/2</td>\n",
       "    </tr>\n",
       "    <tr>\n",
       "      <th>3</th>\n",
       "      <td>4</td>\n",
       "      <td>Infosys</td>\n",
       "      <td>Node.js, Finance</td>\n",
       "      <td>Ahmedabad</td>\n",
       "      <td>21684</td>\n",
       "      <td>5 months</td>\n",
       "      <td>https://apply.infosys.com/3</td>\n",
       "    </tr>\n",
       "    <tr>\n",
       "      <th>4</th>\n",
       "      <td>5</td>\n",
       "      <td>Swiggy</td>\n",
       "      <td>Marketing, React, C++, Excel</td>\n",
       "      <td>Bangalore</td>\n",
       "      <td>12064</td>\n",
       "      <td>4 months</td>\n",
       "      <td>https://apply.swiggy.com/4</td>\n",
       "    </tr>\n",
       "  </tbody>\n",
       "</table>\n",
       "</div>"
      ],
      "text/plain": [
       "   id company_name               skills_required   location  stipend  \\\n",
       "0   1        Wipro        Python, Node.js, React  Bangalore    20380   \n",
       "1   2        Paytm                Node.js, React  Ahmedabad     8838   \n",
       "2   3       Swiggy    Java, Communication, React     Jaipur    16146   \n",
       "3   4      Infosys              Node.js, Finance  Ahmedabad    21684   \n",
       "4   5       Swiggy  Marketing, React, C++, Excel  Bangalore    12064   \n",
       "\n",
       "   duration                   apply_link  \n",
       "0   1 month    https://apply.wipro.com/0  \n",
       "1  5 months    https://apply.paytm.com/1  \n",
       "2  2 months   https://apply.swiggy.com/2  \n",
       "3  5 months  https://apply.infosys.com/3  \n",
       "4  4 months   https://apply.swiggy.com/4  "
      ]
     },
     "execution_count": 19,
     "metadata": {},
     "output_type": "execute_result"
    }
   ],
   "source": [
    "df_internships.head()"
   ]
  },
  {
   "cell_type": "code",
   "execution_count": 20,
   "metadata": {
    "id": "UblO00lH9fX1"
   },
   "outputs": [
    {
     "name": "stderr",
     "output_type": "stream",
     "text": [
      "<>:3: SyntaxWarning: invalid escape sequence '\\s'\n",
      "<>:3: SyntaxWarning: invalid escape sequence '\\s'\n",
      "C:\\Users\\Lenovo\\AppData\\Local\\Temp\\ipykernel_11504\\1704876398.py:3: SyntaxWarning: invalid escape sequence '\\s'\n",
      "  df_students[col] = df_students[col].str.replace('\\s{2}',' ')\n"
     ]
    }
   ],
   "source": [
    "for col in df_students.select_dtypes(include=['object']).columns:\n",
    "    df_students[col] = df_students[col].str.strip()\n",
    "    df_students[col] = df_students[col].str.replace('\\s{2}',' ')"
   ]
  },
  {
   "cell_type": "code",
   "execution_count": 21,
   "metadata": {
    "id": "3WFlHIxA99h1"
   },
   "outputs": [
    {
     "name": "stderr",
     "output_type": "stream",
     "text": [
      "<>:3: SyntaxWarning: invalid escape sequence '\\s'\n",
      "<>:3: SyntaxWarning: invalid escape sequence '\\s'\n",
      "C:\\Users\\Lenovo\\AppData\\Local\\Temp\\ipykernel_11504\\1098050834.py:3: SyntaxWarning: invalid escape sequence '\\s'\n",
      "  df_internships[col] = df_internships[col].str.replace('\\s{2}',' ')\n"
     ]
    }
   ],
   "source": [
    "for col in df_internships.select_dtypes(include=['object']).columns:\n",
    "    df_internships[col] = df_internships[col].str.strip()\n",
    "    df_internships[col] = df_internships[col].str.replace('\\s{2}',' ')"
   ]
  },
  {
   "cell_type": "code",
   "execution_count": 22,
   "metadata": {
    "colab": {
     "base_uri": "https://localhost:8080/"
    },
    "id": "AtCVQBJF-g1J",
    "outputId": "686c03f8-5430-453a-fc76-61c6d470045f"
   },
   "outputs": [
    {
     "name": "stderr",
     "output_type": "stream",
     "text": [
      "C:\\Users\\Lenovo\\AppData\\Local\\Temp\\ipykernel_11504\\2803245379.py:1: FutureWarning: DataFrame.applymap has been deprecated. Use DataFrame.map instead.\n",
      "  df_students = df_students.applymap(lambda x: x.lower() if isinstance(x, str) else x)\n",
      "C:\\Users\\Lenovo\\AppData\\Local\\Temp\\ipykernel_11504\\2803245379.py:2: FutureWarning: DataFrame.applymap has been deprecated. Use DataFrame.map instead.\n",
      "  df_internships = df_internships.applymap(lambda x: x.lower() if isinstance(x, str) else x)\n"
     ]
    }
   ],
   "source": [
    "df_students = df_students.applymap(lambda x: x.lower() if isinstance(x, str) else x)\n",
    "df_internships = df_internships.applymap(lambda x: x.lower() if isinstance(x, str) else x)\n"
   ]
  },
  {
   "cell_type": "code",
   "execution_count": 23,
   "metadata": {
    "colab": {
     "base_uri": "https://localhost:8080/",
     "height": 206
    },
    "id": "ZIotDBRu_UXq",
    "outputId": "1a88c917-ae31-482d-89d7-8db519b7a413"
   },
   "outputs": [
    {
     "data": {
      "text/html": [
       "<div>\n",
       "<style scoped>\n",
       "    .dataframe tbody tr th:only-of-type {\n",
       "        vertical-align: middle;\n",
       "    }\n",
       "\n",
       "    .dataframe tbody tr th {\n",
       "        vertical-align: top;\n",
       "    }\n",
       "\n",
       "    .dataframe thead th {\n",
       "        text-align: right;\n",
       "    }\n",
       "</style>\n",
       "<table border=\"1\" class=\"dataframe\">\n",
       "  <thead>\n",
       "    <tr style=\"text-align: right;\">\n",
       "      <th></th>\n",
       "      <th>id</th>\n",
       "      <th>skills</th>\n",
       "      <th>location</th>\n",
       "      <th>stipend</th>\n",
       "    </tr>\n",
       "  </thead>\n",
       "  <tbody>\n",
       "    <tr>\n",
       "      <th>0</th>\n",
       "      <td>1</td>\n",
       "      <td>sql, marketing, python, java, finance</td>\n",
       "      <td>jaipur</td>\n",
       "      <td>19319</td>\n",
       "    </tr>\n",
       "    <tr>\n",
       "      <th>1</th>\n",
       "      <td>2</td>\n",
       "      <td>machine learning, react, java, marketing, node.js</td>\n",
       "      <td>mumbai</td>\n",
       "      <td>18037</td>\n",
       "    </tr>\n",
       "    <tr>\n",
       "      <th>2</th>\n",
       "      <td>3</td>\n",
       "      <td>c++, react, machine learning, marketing, java</td>\n",
       "      <td>noida</td>\n",
       "      <td>11576</td>\n",
       "    </tr>\n",
       "    <tr>\n",
       "      <th>3</th>\n",
       "      <td>4</td>\n",
       "      <td>sql, java</td>\n",
       "      <td>kolkata</td>\n",
       "      <td>18557</td>\n",
       "    </tr>\n",
       "    <tr>\n",
       "      <th>4</th>\n",
       "      <td>5</td>\n",
       "      <td>react, node.js, marketing, python, machine lea...</td>\n",
       "      <td>kolkata</td>\n",
       "      <td>17394</td>\n",
       "    </tr>\n",
       "  </tbody>\n",
       "</table>\n",
       "</div>"
      ],
      "text/plain": [
       "   id                                             skills location  stipend\n",
       "0   1              sql, marketing, python, java, finance   jaipur    19319\n",
       "1   2  machine learning, react, java, marketing, node.js   mumbai    18037\n",
       "2   3      c++, react, machine learning, marketing, java    noida    11576\n",
       "3   4                                          sql, java  kolkata    18557\n",
       "4   5  react, node.js, marketing, python, machine lea...  kolkata    17394"
      ]
     },
     "execution_count": 23,
     "metadata": {},
     "output_type": "execute_result"
    }
   ],
   "source": [
    "df_students.head()"
   ]
  },
  {
   "cell_type": "code",
   "execution_count": 24,
   "metadata": {
    "colab": {
     "base_uri": "https://localhost:8080/",
     "height": 206
    },
    "id": "t_GnaxDl_Yp1",
    "outputId": "c3ab8f0a-d023-4780-84fe-bec874801333"
   },
   "outputs": [
    {
     "data": {
      "text/html": [
       "<div>\n",
       "<style scoped>\n",
       "    .dataframe tbody tr th:only-of-type {\n",
       "        vertical-align: middle;\n",
       "    }\n",
       "\n",
       "    .dataframe tbody tr th {\n",
       "        vertical-align: top;\n",
       "    }\n",
       "\n",
       "    .dataframe thead th {\n",
       "        text-align: right;\n",
       "    }\n",
       "</style>\n",
       "<table border=\"1\" class=\"dataframe\">\n",
       "  <thead>\n",
       "    <tr style=\"text-align: right;\">\n",
       "      <th></th>\n",
       "      <th>id</th>\n",
       "      <th>company_name</th>\n",
       "      <th>skills_required</th>\n",
       "      <th>location</th>\n",
       "      <th>stipend</th>\n",
       "      <th>duration</th>\n",
       "      <th>apply_link</th>\n",
       "    </tr>\n",
       "  </thead>\n",
       "  <tbody>\n",
       "    <tr>\n",
       "      <th>0</th>\n",
       "      <td>1</td>\n",
       "      <td>wipro</td>\n",
       "      <td>python, node.js, react</td>\n",
       "      <td>bangalore</td>\n",
       "      <td>20380</td>\n",
       "      <td>1 month</td>\n",
       "      <td>https://apply.wipro.com/0</td>\n",
       "    </tr>\n",
       "    <tr>\n",
       "      <th>1</th>\n",
       "      <td>2</td>\n",
       "      <td>paytm</td>\n",
       "      <td>node.js, react</td>\n",
       "      <td>ahmedabad</td>\n",
       "      <td>8838</td>\n",
       "      <td>5 months</td>\n",
       "      <td>https://apply.paytm.com/1</td>\n",
       "    </tr>\n",
       "    <tr>\n",
       "      <th>2</th>\n",
       "      <td>3</td>\n",
       "      <td>swiggy</td>\n",
       "      <td>java, communication, react</td>\n",
       "      <td>jaipur</td>\n",
       "      <td>16146</td>\n",
       "      <td>2 months</td>\n",
       "      <td>https://apply.swiggy.com/2</td>\n",
       "    </tr>\n",
       "    <tr>\n",
       "      <th>3</th>\n",
       "      <td>4</td>\n",
       "      <td>infosys</td>\n",
       "      <td>node.js, finance</td>\n",
       "      <td>ahmedabad</td>\n",
       "      <td>21684</td>\n",
       "      <td>5 months</td>\n",
       "      <td>https://apply.infosys.com/3</td>\n",
       "    </tr>\n",
       "    <tr>\n",
       "      <th>4</th>\n",
       "      <td>5</td>\n",
       "      <td>swiggy</td>\n",
       "      <td>marketing, react, c++, excel</td>\n",
       "      <td>bangalore</td>\n",
       "      <td>12064</td>\n",
       "      <td>4 months</td>\n",
       "      <td>https://apply.swiggy.com/4</td>\n",
       "    </tr>\n",
       "  </tbody>\n",
       "</table>\n",
       "</div>"
      ],
      "text/plain": [
       "   id company_name               skills_required   location  stipend  \\\n",
       "0   1        wipro        python, node.js, react  bangalore    20380   \n",
       "1   2        paytm                node.js, react  ahmedabad     8838   \n",
       "2   3       swiggy    java, communication, react     jaipur    16146   \n",
       "3   4      infosys              node.js, finance  ahmedabad    21684   \n",
       "4   5       swiggy  marketing, react, c++, excel  bangalore    12064   \n",
       "\n",
       "   duration                   apply_link  \n",
       "0   1 month    https://apply.wipro.com/0  \n",
       "1  5 months    https://apply.paytm.com/1  \n",
       "2  2 months   https://apply.swiggy.com/2  \n",
       "3  5 months  https://apply.infosys.com/3  \n",
       "4  4 months   https://apply.swiggy.com/4  "
      ]
     },
     "execution_count": 24,
     "metadata": {},
     "output_type": "execute_result"
    }
   ],
   "source": [
    "df_internships.head()"
   ]
  },
  {
   "cell_type": "code",
   "execution_count": 25,
   "metadata": {
    "id": "9lARS8XC_dfp"
   },
   "outputs": [],
   "source": [
    "df_students = df_students.drop_duplicates().reset_index(drop=True)\n",
    "df_internships = df_internships.drop_duplicates().reset_index(drop=True)\n"
   ]
  },
  {
   "cell_type": "code",
   "execution_count": 26,
   "metadata": {
    "colab": {
     "base_uri": "https://localhost:8080/",
     "height": 429
    },
    "id": "VsRqdkeD_qp5",
    "outputId": "2e17c1c0-8e73-41ed-9baf-b8532c8e2ee6"
   },
   "outputs": [
    {
     "data": {
      "text/plain": [
       "location\n",
       "jaipur       1043\n",
       "mumbai       1017\n",
       "delhi        1014\n",
       "ahmedabad    1010\n",
       "bangalore    1004\n",
       "hyderabad     988\n",
       "kolkata       984\n",
       "pune          982\n",
       "noida         980\n",
       "chennai       978\n",
       "Name: count, dtype: int64"
      ]
     },
     "execution_count": 26,
     "metadata": {},
     "output_type": "execute_result"
    }
   ],
   "source": [
    "df_students.location.value_counts()"
   ]
  },
  {
   "cell_type": "code",
   "execution_count": 27,
   "metadata": {
    "colab": {
     "base_uri": "https://localhost:8080/",
     "height": 429
    },
    "id": "ZA3sqdXj_667",
    "outputId": "75273242-e360-41b2-dfe4-81f617e957d5"
   },
   "outputs": [
    {
     "data": {
      "text/plain": [
       "location\n",
       "chennai      1039\n",
       "jaipur       1017\n",
       "delhi        1015\n",
       "pune         1013\n",
       "ahmedabad    1007\n",
       "hyderabad    1006\n",
       "kolkata       993\n",
       "bangalore     991\n",
       "noida         964\n",
       "mumbai        955\n",
       "Name: count, dtype: int64"
      ]
     },
     "execution_count": 27,
     "metadata": {},
     "output_type": "execute_result"
    }
   ],
   "source": [
    "df_internships.location.value_counts()"
   ]
  },
  {
   "cell_type": "code",
   "execution_count": 28,
   "metadata": {
    "colab": {
     "base_uri": "https://localhost:8080/",
     "height": 489
    },
    "id": "QAiDrJJNAByI",
    "outputId": "c48badd0-0c6b-4194-bfb2-d904d44d6dec"
   },
   "outputs": [
    {
     "data": {
      "text/plain": [
       "skills\n",
       "finance, python                                         38\n",
       "sql, python                                             34\n",
       "python, finance                                         33\n",
       "excel, react                                            32\n",
       "node.js, c++                                            31\n",
       "                                                        ..\n",
       "finance, machine learning, marketing, node.js, react     1\n",
       "python, finance, node.js, excel, java                    1\n",
       "sql, react, java, marketing, node.js                     1\n",
       "react, java, marketing, machine learning                 1\n",
       "java, react, communication, finance, marketing           1\n",
       "Name: count, Length: 5614, dtype: int64"
      ]
     },
     "execution_count": 28,
     "metadata": {},
     "output_type": "execute_result"
    }
   ],
   "source": [
    "df_students.skills.value_counts()"
   ]
  },
  {
   "cell_type": "code",
   "execution_count": 29,
   "metadata": {
    "colab": {
     "base_uri": "https://localhost:8080/",
     "height": 489
    },
    "id": "rfrbJryQAaql",
    "outputId": "27cecb5a-1a49-4706-e4ab-73c052bbceca"
   },
   "outputs": [
    {
     "data": {
      "text/plain": [
       "skills_required\n",
       "c++, finance                                     35\n",
       "communication, finance                           34\n",
       "finance, communication                           34\n",
       "java, finance                                    34\n",
       "marketing, finance                               33\n",
       "                                                 ..\n",
       "c++, java, machine learning, python               1\n",
       "communication, python, react, excel               1\n",
       "java, react, c++                                  1\n",
       "react, communication, finance, java, python       1\n",
       "java, python, machine learning, communication     1\n",
       "Name: count, Length: 5634, dtype: int64"
      ]
     },
     "execution_count": 29,
     "metadata": {},
     "output_type": "execute_result"
    }
   ],
   "source": [
    "df_internships.skills_required.value_counts()"
   ]
  },
  {
   "cell_type": "code",
   "execution_count": 30,
   "metadata": {
    "id": "SkTbuwZTE4_d"
   },
   "outputs": [],
   "source": [
    "df_students['skills'] = df_students['skills'].apply(lambda x: x.split(',') if isinstance(x, str) else [])\n",
    "df_internships['skills_required'] = df_internships['skills_required'].apply(lambda x: x.split(',') if isinstance(x, str) else [])\n"
   ]
  },
  {
   "cell_type": "code",
   "execution_count": 31,
   "metadata": {
    "colab": {
     "base_uri": "https://localhost:8080/",
     "height": 206
    },
    "id": "6vQit431FJmz",
    "outputId": "acbd8257-532c-4684-9621-a48093a7df7e"
   },
   "outputs": [
    {
     "data": {
      "text/html": [
       "<div>\n",
       "<style scoped>\n",
       "    .dataframe tbody tr th:only-of-type {\n",
       "        vertical-align: middle;\n",
       "    }\n",
       "\n",
       "    .dataframe tbody tr th {\n",
       "        vertical-align: top;\n",
       "    }\n",
       "\n",
       "    .dataframe thead th {\n",
       "        text-align: right;\n",
       "    }\n",
       "</style>\n",
       "<table border=\"1\" class=\"dataframe\">\n",
       "  <thead>\n",
       "    <tr style=\"text-align: right;\">\n",
       "      <th></th>\n",
       "      <th>id</th>\n",
       "      <th>skills</th>\n",
       "      <th>location</th>\n",
       "      <th>stipend</th>\n",
       "    </tr>\n",
       "  </thead>\n",
       "  <tbody>\n",
       "    <tr>\n",
       "      <th>0</th>\n",
       "      <td>1</td>\n",
       "      <td>[sql,  marketing,  python,  java,  finance]</td>\n",
       "      <td>jaipur</td>\n",
       "      <td>19319</td>\n",
       "    </tr>\n",
       "    <tr>\n",
       "      <th>1</th>\n",
       "      <td>2</td>\n",
       "      <td>[machine learning,  react,  java,  marketing, ...</td>\n",
       "      <td>mumbai</td>\n",
       "      <td>18037</td>\n",
       "    </tr>\n",
       "    <tr>\n",
       "      <th>2</th>\n",
       "      <td>3</td>\n",
       "      <td>[c++,  react,  machine learning,  marketing,  ...</td>\n",
       "      <td>noida</td>\n",
       "      <td>11576</td>\n",
       "    </tr>\n",
       "    <tr>\n",
       "      <th>3</th>\n",
       "      <td>4</td>\n",
       "      <td>[sql,  java]</td>\n",
       "      <td>kolkata</td>\n",
       "      <td>18557</td>\n",
       "    </tr>\n",
       "    <tr>\n",
       "      <th>4</th>\n",
       "      <td>5</td>\n",
       "      <td>[react,  node.js,  marketing,  python,  machin...</td>\n",
       "      <td>kolkata</td>\n",
       "      <td>17394</td>\n",
       "    </tr>\n",
       "  </tbody>\n",
       "</table>\n",
       "</div>"
      ],
      "text/plain": [
       "   id                                             skills location  stipend\n",
       "0   1        [sql,  marketing,  python,  java,  finance]   jaipur    19319\n",
       "1   2  [machine learning,  react,  java,  marketing, ...   mumbai    18037\n",
       "2   3  [c++,  react,  machine learning,  marketing,  ...    noida    11576\n",
       "3   4                                       [sql,  java]  kolkata    18557\n",
       "4   5  [react,  node.js,  marketing,  python,  machin...  kolkata    17394"
      ]
     },
     "execution_count": 31,
     "metadata": {},
     "output_type": "execute_result"
    }
   ],
   "source": [
    "df_students.head()"
   ]
  },
  {
   "cell_type": "code",
   "execution_count": 32,
   "metadata": {
    "colab": {
     "base_uri": "https://localhost:8080/",
     "height": 206
    },
    "id": "THdnztqeFMYR",
    "outputId": "d7c6a2c4-4ac0-4add-d8bd-a86ea823ddae"
   },
   "outputs": [
    {
     "data": {
      "text/html": [
       "<div>\n",
       "<style scoped>\n",
       "    .dataframe tbody tr th:only-of-type {\n",
       "        vertical-align: middle;\n",
       "    }\n",
       "\n",
       "    .dataframe tbody tr th {\n",
       "        vertical-align: top;\n",
       "    }\n",
       "\n",
       "    .dataframe thead th {\n",
       "        text-align: right;\n",
       "    }\n",
       "</style>\n",
       "<table border=\"1\" class=\"dataframe\">\n",
       "  <thead>\n",
       "    <tr style=\"text-align: right;\">\n",
       "      <th></th>\n",
       "      <th>id</th>\n",
       "      <th>company_name</th>\n",
       "      <th>skills_required</th>\n",
       "      <th>location</th>\n",
       "      <th>stipend</th>\n",
       "      <th>duration</th>\n",
       "      <th>apply_link</th>\n",
       "    </tr>\n",
       "  </thead>\n",
       "  <tbody>\n",
       "    <tr>\n",
       "      <th>0</th>\n",
       "      <td>1</td>\n",
       "      <td>wipro</td>\n",
       "      <td>[python,  node.js,  react]</td>\n",
       "      <td>bangalore</td>\n",
       "      <td>20380</td>\n",
       "      <td>1 month</td>\n",
       "      <td>https://apply.wipro.com/0</td>\n",
       "    </tr>\n",
       "    <tr>\n",
       "      <th>1</th>\n",
       "      <td>2</td>\n",
       "      <td>paytm</td>\n",
       "      <td>[node.js,  react]</td>\n",
       "      <td>ahmedabad</td>\n",
       "      <td>8838</td>\n",
       "      <td>5 months</td>\n",
       "      <td>https://apply.paytm.com/1</td>\n",
       "    </tr>\n",
       "    <tr>\n",
       "      <th>2</th>\n",
       "      <td>3</td>\n",
       "      <td>swiggy</td>\n",
       "      <td>[java,  communication,  react]</td>\n",
       "      <td>jaipur</td>\n",
       "      <td>16146</td>\n",
       "      <td>2 months</td>\n",
       "      <td>https://apply.swiggy.com/2</td>\n",
       "    </tr>\n",
       "    <tr>\n",
       "      <th>3</th>\n",
       "      <td>4</td>\n",
       "      <td>infosys</td>\n",
       "      <td>[node.js,  finance]</td>\n",
       "      <td>ahmedabad</td>\n",
       "      <td>21684</td>\n",
       "      <td>5 months</td>\n",
       "      <td>https://apply.infosys.com/3</td>\n",
       "    </tr>\n",
       "    <tr>\n",
       "      <th>4</th>\n",
       "      <td>5</td>\n",
       "      <td>swiggy</td>\n",
       "      <td>[marketing,  react,  c++,  excel]</td>\n",
       "      <td>bangalore</td>\n",
       "      <td>12064</td>\n",
       "      <td>4 months</td>\n",
       "      <td>https://apply.swiggy.com/4</td>\n",
       "    </tr>\n",
       "  </tbody>\n",
       "</table>\n",
       "</div>"
      ],
      "text/plain": [
       "   id company_name                    skills_required   location  stipend  \\\n",
       "0   1        wipro         [python,  node.js,  react]  bangalore    20380   \n",
       "1   2        paytm                  [node.js,  react]  ahmedabad     8838   \n",
       "2   3       swiggy     [java,  communication,  react]     jaipur    16146   \n",
       "3   4      infosys                [node.js,  finance]  ahmedabad    21684   \n",
       "4   5       swiggy  [marketing,  react,  c++,  excel]  bangalore    12064   \n",
       "\n",
       "   duration                   apply_link  \n",
       "0   1 month    https://apply.wipro.com/0  \n",
       "1  5 months    https://apply.paytm.com/1  \n",
       "2  2 months   https://apply.swiggy.com/2  \n",
       "3  5 months  https://apply.infosys.com/3  \n",
       "4  4 months   https://apply.swiggy.com/4  "
      ]
     },
     "execution_count": 32,
     "metadata": {},
     "output_type": "execute_result"
    }
   ],
   "source": [
    "df_internships.head()"
   ]
  },
  {
   "cell_type": "code",
   "execution_count": 33,
   "metadata": {
    "id": "hmx76_NsFOoe"
   },
   "outputs": [],
   "source": [
    "df_students['skills'] = df_students['skills'].apply(lambda x: x if isinstance(x, list) else ([] if pd.notna(x) else []))\n",
    "df_internships['skills_required'] = df_internships['skills_required'].apply(lambda x: x if isinstance(x, list) else ([] if pd.notna(x) else []))\n"
   ]
  },
  {
   "cell_type": "code",
   "execution_count": 34,
   "metadata": {
    "id": "kvURbSUVGTow"
   },
   "outputs": [],
   "source": [
    "df_students['skills'] = df_students['skills'].apply(lambda x: x.split(', ') if isinstance(x, str) else x)\n",
    "df_internships['skills_required'] = df_internships['skills_required'].apply(lambda x: x.split(', ') if isinstance(x, str) else x)\n"
   ]
  },
  {
   "cell_type": "code",
   "execution_count": 35,
   "metadata": {
    "id": "_iZ6ou9eGXhH"
   },
   "outputs": [],
   "source": [
    "from sklearn.preprocessing import MultiLabelBinarizer\n",
    "\n",
    "mlb = MultiLabelBinarizer()\n",
    "\n",
    "# Fit on combined unique skills from both datasets\n",
    "all_skills = df_students['skills'].explode().dropna().unique().tolist() + df_internships['skills_required'].explode().dropna().unique().tolist()\n",
    "mlb.fit([all_skills])  # Fit once on combined unique skills\n",
    "\n",
    "# Transform 'skills' column in df_students\n",
    "skills_dummies_students = pd.DataFrame(mlb.transform(df_students['skills']), columns=mlb.classes_)\n",
    "df_students = pd.concat([df_students, skills_dummies_students], axis=1)\n",
    "\n",
    "# Transform 'skills_required' column in df_internships\n",
    "skills_dummies_internships = pd.DataFrame(mlb.transform(df_internships['skills_required']), columns=mlb.classes_)\n",
    "df_internships = pd.concat([df_internships, skills_dummies_internships], axis=1)\n"
   ]
  },
  {
   "cell_type": "code",
   "execution_count": 36,
   "metadata": {
    "colab": {
     "base_uri": "https://localhost:8080/"
    },
    "id": "ti3nSw8iGfwn",
    "outputId": "1ddc8e24-ae67-4dc8-c8ca-e5aa26e4a74b"
   },
   "outputs": [
    {
     "name": "stdout",
     "output_type": "stream",
     "text": [
      "                                              skills\n",
      "0        [sql,  marketing,  python,  java,  finance]\n",
      "1  [machine learning,  react,  java,  marketing, ...\n",
      "2  [c++,  react,  machine learning,  marketing,  ...\n",
      "3                                       [sql,  java]\n",
      "4  [react,  node.js,  marketing,  python,  machin...\n",
      "                     skills_required\n",
      "0         [python,  node.js,  react]\n",
      "1                  [node.js,  react]\n",
      "2     [java,  communication,  react]\n",
      "3                [node.js,  finance]\n",
      "4  [marketing,  react,  c++,  excel]\n"
     ]
    }
   ],
   "source": [
    "print(df_students[['skills']].head())\n",
    "print(df_internships[['skills_required']].head())\n"
   ]
  },
  {
   "cell_type": "code",
   "execution_count": 37,
   "metadata": {
    "id": "2X1G0NtDGjE3"
   },
   "outputs": [],
   "source": [
    "from sklearn.metrics.pairwise import cosine_similarity\n",
    "\n",
    "# Compute the cosine similarity between df_students and df_internships skill sets\n",
    "similarity_matrix = cosine_similarity(df_students[mlb.classes_], df_internships[mlb.classes_])\n",
    "\n",
    "# Find the index of the most similar internship for each student (top match)\n",
    "df_students['top_match'] = [df_internships.iloc[i].to_dict() for i in similarity_matrix.argmax(axis=1)]\n",
    "\n",
    "# Optionally, get the similarity score (if you need to rank them)\n",
    "df_students['similarity_score'] = similarity_matrix.max(axis=1)\n"
   ]
  },
  {
   "cell_type": "code",
   "execution_count": 38,
   "metadata": {
    "colab": {
     "base_uri": "https://localhost:8080/"
    },
    "id": "YEupan3jHHpx",
    "outputId": "0157bddb-379e-46b7-f894-77cad68db3a1"
   },
   "outputs": [
    {
     "name": "stdout",
     "output_type": "stream",
     "text": [
      "         id                                          top_match  \\\n",
      "0         1  {'id': 2693, 'company_name': 'zomato', 'skills...   \n",
      "1         2  {'id': 2676, 'company_name': 'razorpay', 'skil...   \n",
      "2         3  {'id': 3272, 'company_name': 'flipkart', 'skil...   \n",
      "3         4  {'id': 26, 'company_name': 'ola', 'skills_requ...   \n",
      "4         5  {'id': 218, 'company_name': 'razorpay', 'skill...   \n",
      "...     ...                                                ...   \n",
      "9995   9996  {'id': 251, 'company_name': 'tcs', 'skills_req...   \n",
      "9996   9997  {'id': 790, 'company_name': 'infosys', 'skills...   \n",
      "9997   9998  {'id': 1902, 'company_name': 'zomato', 'skills...   \n",
      "9998   9999  {'id': 321, 'company_name': 'razorpay', 'skill...   \n",
      "9999  10000  {'id': 79, 'company_name': 'paytm', 'skills_re...   \n",
      "\n",
      "      similarity_score  \n",
      "0             0.894427  \n",
      "1             1.000000  \n",
      "2             1.000000  \n",
      "3             1.000000  \n",
      "4             0.894427  \n",
      "...                ...  \n",
      "9995          1.000000  \n",
      "9996          1.000000  \n",
      "9997          1.000000  \n",
      "9998          1.000000  \n",
      "9999          1.000000  \n",
      "\n",
      "[10000 rows x 3 columns]\n"
     ]
    }
   ],
   "source": [
    "# Display the first few rows of df_students to check the results\n",
    "print(df_students[['id','top_match', 'similarity_score']])\n"
   ]
  },
  {
   "cell_type": "code",
   "execution_count": 39,
   "metadata": {
    "colab": {
     "base_uri": "https://localhost:8080/"
    },
    "id": "pqiIMgkKHXoY",
    "outputId": "f6a3aec6-eed0-407b-d3fa-c7a5cb51956b"
   },
   "outputs": [
    {
     "name": "stdout",
     "output_type": "stream",
     "text": [
      "0.8660254037844388\n",
      "1.0000000000000002\n"
     ]
    }
   ],
   "source": [
    "# Check the range of similarity scores\n",
    "print(df_students['similarity_score'].min())  # Should be 0\n",
    "print(df_students['similarity_score'].max())  # Should be 1\n"
   ]
  },
  {
   "cell_type": "code",
   "execution_count": 40,
   "metadata": {
    "colab": {
     "base_uri": "https://localhost:8080/"
    },
    "id": "BGSo7Jd6Hrva",
    "outputId": "a5cf5d9e-69e3-4cd5-843f-045656ce7ecf"
   },
   "outputs": [
    {
     "name": "stdout",
     "output_type": "stream",
     "text": [
      "         id                                          top_match  \\\n",
      "9973   9974  {'id': 16, 'company_name': 'wipro', 'skills_re...   \n",
      "13       14  {'id': 642, 'company_name': 'infosys', 'skills...   \n",
      "9972   9973  {'id': 1996, 'company_name': 'swiggy', 'skills...   \n",
      "9981   9982  {'id': 594, 'company_name': 'infosys', 'skills...   \n",
      "9999  10000  {'id': 79, 'company_name': 'paytm', 'skills_re...   \n",
      "\n",
      "      similarity_score  \n",
      "9973               1.0  \n",
      "13                 1.0  \n",
      "9972               1.0  \n",
      "9981               1.0  \n",
      "9999               1.0  \n"
     ]
    }
   ],
   "source": [
    "# Sort students by similarity score in descending order\n",
    "df_students_sorted = df_students.sort_values(by='similarity_score', ascending=False)\n",
    "\n",
    "# Display the top students with the highest similarity scores\n",
    "print(df_students_sorted[['id', 'top_match', 'similarity_score']].head())\n"
   ]
  },
  {
   "cell_type": "code",
   "execution_count": 41,
   "metadata": {
    "id": "IozM_drhH1Xc"
   },
   "outputs": [],
   "source": [
    "# Save the results to a CSV file\n",
    "df_students.to_csv('students_internship_matches.csv', index=False)\n"
   ]
  },
  {
   "cell_type": "code",
   "execution_count": 42,
   "metadata": {
    "colab": {
     "base_uri": "https://localhost:8080/"
    },
    "id": "K08cHqiAMyrg",
    "outputId": "adc46155-73f0-467e-9cde-e72d919141a1"
   },
   "outputs": [
    {
     "name": "stdout",
     "output_type": "stream",
     "text": [
      "   id                                             skills  stipend   c++  \\\n",
      "0   1        [sql,  marketing,  python,  java,  finance]    19319     0   \n",
      "1   2  [machine learning,  react,  java,  marketing, ...    18037     0   \n",
      "2   3  [c++,  react,  machine learning,  marketing,  ...    11576     0   \n",
      "3   4                                       [sql,  java]    18557     0   \n",
      "4   5  [react,  node.js,  marketing,  python,  machin...    17394     0   \n",
      "\n",
      "    communication   excel   finance   java   machine learning   marketing  \\\n",
      "0               0       0         1      1                  0           1   \n",
      "1               0       0         0      1                  0           1   \n",
      "2               0       0         0      1                  1           1   \n",
      "3               0       0         0      1                  0           0   \n",
      "4               0       0         0      0                  1           1   \n",
      "\n",
      "   ...  similarity_score  location_bangalore  location_chennai  \\\n",
      "0  ...          0.894427               False             False   \n",
      "1  ...          1.000000               False             False   \n",
      "2  ...          1.000000               False             False   \n",
      "3  ...          1.000000               False             False   \n",
      "4  ...          0.894427               False             False   \n",
      "\n",
      "   location_delhi  location_hyderabad  location_jaipur  location_kolkata  \\\n",
      "0           False               False             True             False   \n",
      "1           False               False            False             False   \n",
      "2           False               False            False             False   \n",
      "3           False               False            False              True   \n",
      "4           False               False            False              True   \n",
      "\n",
      "   location_mumbai  location_noida  location_pune  \n",
      "0            False           False          False  \n",
      "1             True           False          False  \n",
      "2            False            True          False  \n",
      "3            False           False          False  \n",
      "4            False           False          False  \n",
      "\n",
      "[5 rows x 36 columns]\n",
      "   id company_name                    skills_required  stipend  duration  \\\n",
      "0   1        wipro         [python,  node.js,  react]    20380   1 month   \n",
      "1   2        paytm                  [node.js,  react]     8838  5 months   \n",
      "2   3       swiggy     [java,  communication,  react]    16146  2 months   \n",
      "3   4      infosys                [node.js,  finance]    21684  5 months   \n",
      "4   5       swiggy  [marketing,  react,  c++,  excel]    12064  4 months   \n",
      "\n",
      "                    apply_link   c++   communication   excel   finance  ...  \\\n",
      "0    https://apply.wipro.com/0     0               0       0         0  ...   \n",
      "1    https://apply.paytm.com/1     0               0       0         0  ...   \n",
      "2   https://apply.swiggy.com/2     0               1       0         0  ...   \n",
      "3  https://apply.infosys.com/3     0               0       0         1  ...   \n",
      "4   https://apply.swiggy.com/4     1               0       1         0  ...   \n",
      "\n",
      "   sql  location_bangalore  location_chennai  location_delhi  \\\n",
      "0    0                True             False           False   \n",
      "1    0               False             False           False   \n",
      "2    0               False             False           False   \n",
      "3    0               False             False           False   \n",
      "4    0                True             False           False   \n",
      "\n",
      "   location_hyderabad  location_jaipur  location_kolkata  location_mumbai  \\\n",
      "0               False            False             False            False   \n",
      "1               False            False             False            False   \n",
      "2               False             True             False            False   \n",
      "3               False            False             False            False   \n",
      "4               False            False             False            False   \n",
      "\n",
      "   location_noida  location_pune  \n",
      "0           False          False  \n",
      "1           False          False  \n",
      "2           False          False  \n",
      "3           False          False  \n",
      "4           False          False  \n",
      "\n",
      "[5 rows x 37 columns]\n"
     ]
    }
   ],
   "source": [
    "# One-hot encode the 'location' column for both df_students and df_internships\n",
    "df_students = pd.get_dummies(df_students, columns=['location'], drop_first=True)\n",
    "df_internships = pd.get_dummies(df_internships, columns=['location'], drop_first=True)\n",
    "\n",
    "# Display the first few rows to check the results\n",
    "print(df_students.head())\n",
    "print(df_internships.head())\n"
   ]
  },
  {
   "cell_type": "code",
   "execution_count": 43,
   "metadata": {
    "colab": {
     "base_uri": "https://localhost:8080/",
     "height": 585
    },
    "id": "IO5UE_xIKQO1",
    "outputId": "d167e9d2-ae7b-4994-f492-634908a340dd"
   },
   "outputs": [
    {
     "data": {
      "text/html": [
       "<div>\n",
       "<style scoped>\n",
       "    .dataframe tbody tr th:only-of-type {\n",
       "        vertical-align: middle;\n",
       "    }\n",
       "\n",
       "    .dataframe tbody tr th {\n",
       "        vertical-align: top;\n",
       "    }\n",
       "\n",
       "    .dataframe thead th {\n",
       "        text-align: right;\n",
       "    }\n",
       "</style>\n",
       "<table border=\"1\" class=\"dataframe\">\n",
       "  <thead>\n",
       "    <tr style=\"text-align: right;\">\n",
       "      <th></th>\n",
       "      <th>id</th>\n",
       "      <th>skills</th>\n",
       "      <th>stipend</th>\n",
       "      <th>c++</th>\n",
       "      <th>communication</th>\n",
       "      <th>excel</th>\n",
       "      <th>finance</th>\n",
       "      <th>java</th>\n",
       "      <th>machine learning</th>\n",
       "      <th>marketing</th>\n",
       "      <th>...</th>\n",
       "      <th>similarity_score</th>\n",
       "      <th>location_bangalore</th>\n",
       "      <th>location_chennai</th>\n",
       "      <th>location_delhi</th>\n",
       "      <th>location_hyderabad</th>\n",
       "      <th>location_jaipur</th>\n",
       "      <th>location_kolkata</th>\n",
       "      <th>location_mumbai</th>\n",
       "      <th>location_noida</th>\n",
       "      <th>location_pune</th>\n",
       "    </tr>\n",
       "  </thead>\n",
       "  <tbody>\n",
       "    <tr>\n",
       "      <th>0</th>\n",
       "      <td>1</td>\n",
       "      <td>[sql,  marketing,  python,  java,  finance]</td>\n",
       "      <td>19319</td>\n",
       "      <td>0</td>\n",
       "      <td>0</td>\n",
       "      <td>0</td>\n",
       "      <td>1</td>\n",
       "      <td>1</td>\n",
       "      <td>0</td>\n",
       "      <td>1</td>\n",
       "      <td>...</td>\n",
       "      <td>0.894427</td>\n",
       "      <td>False</td>\n",
       "      <td>False</td>\n",
       "      <td>False</td>\n",
       "      <td>False</td>\n",
       "      <td>True</td>\n",
       "      <td>False</td>\n",
       "      <td>False</td>\n",
       "      <td>False</td>\n",
       "      <td>False</td>\n",
       "    </tr>\n",
       "    <tr>\n",
       "      <th>1</th>\n",
       "      <td>2</td>\n",
       "      <td>[machine learning,  react,  java,  marketing, ...</td>\n",
       "      <td>18037</td>\n",
       "      <td>0</td>\n",
       "      <td>0</td>\n",
       "      <td>0</td>\n",
       "      <td>0</td>\n",
       "      <td>1</td>\n",
       "      <td>0</td>\n",
       "      <td>1</td>\n",
       "      <td>...</td>\n",
       "      <td>1.000000</td>\n",
       "      <td>False</td>\n",
       "      <td>False</td>\n",
       "      <td>False</td>\n",
       "      <td>False</td>\n",
       "      <td>False</td>\n",
       "      <td>False</td>\n",
       "      <td>True</td>\n",
       "      <td>False</td>\n",
       "      <td>False</td>\n",
       "    </tr>\n",
       "    <tr>\n",
       "      <th>2</th>\n",
       "      <td>3</td>\n",
       "      <td>[c++,  react,  machine learning,  marketing,  ...</td>\n",
       "      <td>11576</td>\n",
       "      <td>0</td>\n",
       "      <td>0</td>\n",
       "      <td>0</td>\n",
       "      <td>0</td>\n",
       "      <td>1</td>\n",
       "      <td>1</td>\n",
       "      <td>1</td>\n",
       "      <td>...</td>\n",
       "      <td>1.000000</td>\n",
       "      <td>False</td>\n",
       "      <td>False</td>\n",
       "      <td>False</td>\n",
       "      <td>False</td>\n",
       "      <td>False</td>\n",
       "      <td>False</td>\n",
       "      <td>False</td>\n",
       "      <td>True</td>\n",
       "      <td>False</td>\n",
       "    </tr>\n",
       "    <tr>\n",
       "      <th>3</th>\n",
       "      <td>4</td>\n",
       "      <td>[sql,  java]</td>\n",
       "      <td>18557</td>\n",
       "      <td>0</td>\n",
       "      <td>0</td>\n",
       "      <td>0</td>\n",
       "      <td>0</td>\n",
       "      <td>1</td>\n",
       "      <td>0</td>\n",
       "      <td>0</td>\n",
       "      <td>...</td>\n",
       "      <td>1.000000</td>\n",
       "      <td>False</td>\n",
       "      <td>False</td>\n",
       "      <td>False</td>\n",
       "      <td>False</td>\n",
       "      <td>False</td>\n",
       "      <td>True</td>\n",
       "      <td>False</td>\n",
       "      <td>False</td>\n",
       "      <td>False</td>\n",
       "    </tr>\n",
       "    <tr>\n",
       "      <th>4</th>\n",
       "      <td>5</td>\n",
       "      <td>[react,  node.js,  marketing,  python,  machin...</td>\n",
       "      <td>17394</td>\n",
       "      <td>0</td>\n",
       "      <td>0</td>\n",
       "      <td>0</td>\n",
       "      <td>0</td>\n",
       "      <td>0</td>\n",
       "      <td>1</td>\n",
       "      <td>1</td>\n",
       "      <td>...</td>\n",
       "      <td>0.894427</td>\n",
       "      <td>False</td>\n",
       "      <td>False</td>\n",
       "      <td>False</td>\n",
       "      <td>False</td>\n",
       "      <td>False</td>\n",
       "      <td>True</td>\n",
       "      <td>False</td>\n",
       "      <td>False</td>\n",
       "      <td>False</td>\n",
       "    </tr>\n",
       "  </tbody>\n",
       "</table>\n",
       "<p>5 rows × 36 columns</p>\n",
       "</div>"
      ],
      "text/plain": [
       "   id                                             skills  stipend   c++  \\\n",
       "0   1        [sql,  marketing,  python,  java,  finance]    19319     0   \n",
       "1   2  [machine learning,  react,  java,  marketing, ...    18037     0   \n",
       "2   3  [c++,  react,  machine learning,  marketing,  ...    11576     0   \n",
       "3   4                                       [sql,  java]    18557     0   \n",
       "4   5  [react,  node.js,  marketing,  python,  machin...    17394     0   \n",
       "\n",
       "    communication   excel   finance   java   machine learning   marketing  \\\n",
       "0               0       0         1      1                  0           1   \n",
       "1               0       0         0      1                  0           1   \n",
       "2               0       0         0      1                  1           1   \n",
       "3               0       0         0      1                  0           0   \n",
       "4               0       0         0      0                  1           1   \n",
       "\n",
       "   ...  similarity_score  location_bangalore  location_chennai  \\\n",
       "0  ...          0.894427               False             False   \n",
       "1  ...          1.000000               False             False   \n",
       "2  ...          1.000000               False             False   \n",
       "3  ...          1.000000               False             False   \n",
       "4  ...          0.894427               False             False   \n",
       "\n",
       "   location_delhi  location_hyderabad  location_jaipur  location_kolkata  \\\n",
       "0           False               False             True             False   \n",
       "1           False               False            False             False   \n",
       "2           False               False            False             False   \n",
       "3           False               False            False              True   \n",
       "4           False               False            False              True   \n",
       "\n",
       "   location_mumbai  location_noida  location_pune  \n",
       "0            False           False          False  \n",
       "1             True           False          False  \n",
       "2            False            True          False  \n",
       "3            False           False          False  \n",
       "4            False           False          False  \n",
       "\n",
       "[5 rows x 36 columns]"
      ]
     },
     "execution_count": 43,
     "metadata": {},
     "output_type": "execute_result"
    }
   ],
   "source": [
    "df_students.head()"
   ]
  },
  {
   "cell_type": "code",
   "execution_count": 44,
   "metadata": {
    "colab": {
     "base_uri": "https://localhost:8080/",
     "height": 325
    },
    "id": "fzFJZVeyKS3L",
    "outputId": "a43a9a59-bcd9-4231-f1b7-2c395364ffc9"
   },
   "outputs": [
    {
     "data": {
      "text/html": [
       "<div>\n",
       "<style scoped>\n",
       "    .dataframe tbody tr th:only-of-type {\n",
       "        vertical-align: middle;\n",
       "    }\n",
       "\n",
       "    .dataframe tbody tr th {\n",
       "        vertical-align: top;\n",
       "    }\n",
       "\n",
       "    .dataframe thead th {\n",
       "        text-align: right;\n",
       "    }\n",
       "</style>\n",
       "<table border=\"1\" class=\"dataframe\">\n",
       "  <thead>\n",
       "    <tr style=\"text-align: right;\">\n",
       "      <th></th>\n",
       "      <th>id</th>\n",
       "      <th>company_name</th>\n",
       "      <th>skills_required</th>\n",
       "      <th>stipend</th>\n",
       "      <th>duration</th>\n",
       "      <th>apply_link</th>\n",
       "      <th>c++</th>\n",
       "      <th>communication</th>\n",
       "      <th>excel</th>\n",
       "      <th>finance</th>\n",
       "      <th>...</th>\n",
       "      <th>sql</th>\n",
       "      <th>location_bangalore</th>\n",
       "      <th>location_chennai</th>\n",
       "      <th>location_delhi</th>\n",
       "      <th>location_hyderabad</th>\n",
       "      <th>location_jaipur</th>\n",
       "      <th>location_kolkata</th>\n",
       "      <th>location_mumbai</th>\n",
       "      <th>location_noida</th>\n",
       "      <th>location_pune</th>\n",
       "    </tr>\n",
       "  </thead>\n",
       "  <tbody>\n",
       "    <tr>\n",
       "      <th>0</th>\n",
       "      <td>1</td>\n",
       "      <td>wipro</td>\n",
       "      <td>[python,  node.js,  react]</td>\n",
       "      <td>20380</td>\n",
       "      <td>1 month</td>\n",
       "      <td>https://apply.wipro.com/0</td>\n",
       "      <td>0</td>\n",
       "      <td>0</td>\n",
       "      <td>0</td>\n",
       "      <td>0</td>\n",
       "      <td>...</td>\n",
       "      <td>0</td>\n",
       "      <td>True</td>\n",
       "      <td>False</td>\n",
       "      <td>False</td>\n",
       "      <td>False</td>\n",
       "      <td>False</td>\n",
       "      <td>False</td>\n",
       "      <td>False</td>\n",
       "      <td>False</td>\n",
       "      <td>False</td>\n",
       "    </tr>\n",
       "    <tr>\n",
       "      <th>1</th>\n",
       "      <td>2</td>\n",
       "      <td>paytm</td>\n",
       "      <td>[node.js,  react]</td>\n",
       "      <td>8838</td>\n",
       "      <td>5 months</td>\n",
       "      <td>https://apply.paytm.com/1</td>\n",
       "      <td>0</td>\n",
       "      <td>0</td>\n",
       "      <td>0</td>\n",
       "      <td>0</td>\n",
       "      <td>...</td>\n",
       "      <td>0</td>\n",
       "      <td>False</td>\n",
       "      <td>False</td>\n",
       "      <td>False</td>\n",
       "      <td>False</td>\n",
       "      <td>False</td>\n",
       "      <td>False</td>\n",
       "      <td>False</td>\n",
       "      <td>False</td>\n",
       "      <td>False</td>\n",
       "    </tr>\n",
       "    <tr>\n",
       "      <th>2</th>\n",
       "      <td>3</td>\n",
       "      <td>swiggy</td>\n",
       "      <td>[java,  communication,  react]</td>\n",
       "      <td>16146</td>\n",
       "      <td>2 months</td>\n",
       "      <td>https://apply.swiggy.com/2</td>\n",
       "      <td>0</td>\n",
       "      <td>1</td>\n",
       "      <td>0</td>\n",
       "      <td>0</td>\n",
       "      <td>...</td>\n",
       "      <td>0</td>\n",
       "      <td>False</td>\n",
       "      <td>False</td>\n",
       "      <td>False</td>\n",
       "      <td>False</td>\n",
       "      <td>True</td>\n",
       "      <td>False</td>\n",
       "      <td>False</td>\n",
       "      <td>False</td>\n",
       "      <td>False</td>\n",
       "    </tr>\n",
       "    <tr>\n",
       "      <th>3</th>\n",
       "      <td>4</td>\n",
       "      <td>infosys</td>\n",
       "      <td>[node.js,  finance]</td>\n",
       "      <td>21684</td>\n",
       "      <td>5 months</td>\n",
       "      <td>https://apply.infosys.com/3</td>\n",
       "      <td>0</td>\n",
       "      <td>0</td>\n",
       "      <td>0</td>\n",
       "      <td>1</td>\n",
       "      <td>...</td>\n",
       "      <td>0</td>\n",
       "      <td>False</td>\n",
       "      <td>False</td>\n",
       "      <td>False</td>\n",
       "      <td>False</td>\n",
       "      <td>False</td>\n",
       "      <td>False</td>\n",
       "      <td>False</td>\n",
       "      <td>False</td>\n",
       "      <td>False</td>\n",
       "    </tr>\n",
       "    <tr>\n",
       "      <th>4</th>\n",
       "      <td>5</td>\n",
       "      <td>swiggy</td>\n",
       "      <td>[marketing,  react,  c++,  excel]</td>\n",
       "      <td>12064</td>\n",
       "      <td>4 months</td>\n",
       "      <td>https://apply.swiggy.com/4</td>\n",
       "      <td>1</td>\n",
       "      <td>0</td>\n",
       "      <td>1</td>\n",
       "      <td>0</td>\n",
       "      <td>...</td>\n",
       "      <td>0</td>\n",
       "      <td>True</td>\n",
       "      <td>False</td>\n",
       "      <td>False</td>\n",
       "      <td>False</td>\n",
       "      <td>False</td>\n",
       "      <td>False</td>\n",
       "      <td>False</td>\n",
       "      <td>False</td>\n",
       "      <td>False</td>\n",
       "    </tr>\n",
       "  </tbody>\n",
       "</table>\n",
       "<p>5 rows × 37 columns</p>\n",
       "</div>"
      ],
      "text/plain": [
       "   id company_name                    skills_required  stipend  duration  \\\n",
       "0   1        wipro         [python,  node.js,  react]    20380   1 month   \n",
       "1   2        paytm                  [node.js,  react]     8838  5 months   \n",
       "2   3       swiggy     [java,  communication,  react]    16146  2 months   \n",
       "3   4      infosys                [node.js,  finance]    21684  5 months   \n",
       "4   5       swiggy  [marketing,  react,  c++,  excel]    12064  4 months   \n",
       "\n",
       "                    apply_link   c++   communication   excel   finance  ...  \\\n",
       "0    https://apply.wipro.com/0     0               0       0         0  ...   \n",
       "1    https://apply.paytm.com/1     0               0       0         0  ...   \n",
       "2   https://apply.swiggy.com/2     0               1       0         0  ...   \n",
       "3  https://apply.infosys.com/3     0               0       0         1  ...   \n",
       "4   https://apply.swiggy.com/4     1               0       1         0  ...   \n",
       "\n",
       "   sql  location_bangalore  location_chennai  location_delhi  \\\n",
       "0    0                True             False           False   \n",
       "1    0               False             False           False   \n",
       "2    0               False             False           False   \n",
       "3    0               False             False           False   \n",
       "4    0                True             False           False   \n",
       "\n",
       "   location_hyderabad  location_jaipur  location_kolkata  location_mumbai  \\\n",
       "0               False            False             False            False   \n",
       "1               False            False             False            False   \n",
       "2               False             True             False            False   \n",
       "3               False            False             False            False   \n",
       "4               False            False             False            False   \n",
       "\n",
       "   location_noida  location_pune  \n",
       "0           False          False  \n",
       "1           False          False  \n",
       "2           False          False  \n",
       "3           False          False  \n",
       "4           False          False  \n",
       "\n",
       "[5 rows x 37 columns]"
      ]
     },
     "execution_count": 44,
     "metadata": {},
     "output_type": "execute_result"
    }
   ],
   "source": [
    "df_internships.head()"
   ]
  },
  {
   "cell_type": "code",
   "execution_count": 45,
   "metadata": {
    "colab": {
     "base_uri": "https://localhost:8080/"
    },
    "id": "UB-5b6RgKe8F",
    "outputId": "93632f5b-347b-4cbe-b222-2264230a29ca"
   },
   "outputs": [
    {
     "data": {
      "text/plain": [
       "360000"
      ]
     },
     "execution_count": 45,
     "metadata": {},
     "output_type": "execute_result"
    }
   ],
   "source": [
    "df_students.size"
   ]
  },
  {
   "cell_type": "code",
   "execution_count": 46,
   "metadata": {
    "id": "gd4j7K1KLbfD"
   },
   "outputs": [],
   "source": [
    "from sklearn.preprocessing import MinMaxScaler\n",
    "\n",
    "# Initialize the MinMaxScaler to scale stipend values between 0 and 1\n",
    "scaler = MinMaxScaler()\n",
    "\n",
    "# Scale stipend/ salary for both students and internships\n",
    "df_students['stipend_scaled'] = scaler.fit_transform(df_students[['stipend']])\n",
    "df_internships['stipend_scaled'] = scaler.fit_transform(df_internships[['stipend']])\n"
   ]
  },
  {
   "cell_type": "code",
   "execution_count": 47,
   "metadata": {
    "colab": {
     "base_uri": "https://localhost:8080/",
     "height": 241
    },
    "id": "dUXdC43ANa0S",
    "outputId": "f7c4f0a0-42c3-439f-f527-8528b39b334d"
   },
   "outputs": [
    {
     "data": {
      "text/plain": [
       "0    0.716057\n",
       "1    0.651948\n",
       "2    0.328849\n",
       "3    0.677952\n",
       "4    0.619793\n",
       "Name: stipend_scaled, dtype: float64"
      ]
     },
     "execution_count": 47,
     "metadata": {},
     "output_type": "execute_result"
    }
   ],
   "source": [
    "df_students['stipend_scaled'].head()"
   ]
  },
  {
   "cell_type": "code",
   "execution_count": 48,
   "metadata": {
    "colab": {
     "base_uri": "https://localhost:8080/",
     "height": 356
    },
    "id": "2CU0lX-DBxX7",
    "outputId": "ad9bdfc3-b999-4a8b-f970-61c4d4dc889d"
   },
   "outputs": [
    {
     "name": "stdout",
     "output_type": "stream",
     "text": [
      "[[0.01909767 0.03860581 0.24410775 ... 0.54234236 0.2209384  0.36163023]\n",
      " [0.28848282 0.62953675 0.16127014 ... 0.05161899 0.5194845  0.1979841 ]\n",
      " [0.25374034 0.6795845  0.21345098 ... 0.01168206 0.16375868 0.16170415]\n",
      " ...\n",
      " [0.62544453 0.5678395  0.13959119 ... 0.06351297 0.49416655 0.5375403 ]\n",
      " [0.42412332 0.10401092 0.28679985 ... 0.43803757 0.5310857  0.01871747]\n",
      " [0.2712006  0.01329346 0.13663325 ... 0.9944005  0.46165422 0.45383188]]\n"
     ]
    }
   ],
   "source": [
    "# Load necessary libraries\n",
    "from sentence_transformers import SentenceTransformer\n",
    "from sklearn.metrics.pairwise import cosine_similarity\n",
    "import pandas as pd\n",
    "import numpy as np\n",
    "\n",
    "# Pre-trained Sentence-BERT model for skills similarity\n",
    "model = SentenceTransformer('all-MiniLM-L6-v2')\n",
    "\n",
    "# 1. Convert skills to embeddings using Sentence-BERT model\n",
    "student_embeddings = model.encode(df_students['skills'].tolist())\n",
    "internship_embeddings = model.encode(df_internships['skills_required'].tolist())\n",
    "\n",
    "# 2. Calculate cosine similarity between students' skills and internships' skills\n",
    "skills_similarity = cosine_similarity(student_embeddings, internship_embeddings)\n",
    "print(skills_similarity)\n",
    "\n",
    "\n",
    "\n",
    "\n"
   ]
  },
  {
   "cell_type": "code",
   "execution_count": 49,
   "metadata": {
    "id": "ofyy7TOuKfHv"
   },
   "outputs": [
    {
     "name": "stdout",
     "output_type": "stream",
     "text": [
      "id     1      2      3      4      5      6      7      8      9      10     \\\n",
      "id                                                                            \n",
      "1          1      0      1      0      1      1      0      1      1      1   \n",
      "2          1      0      1      0      1      1      0      1      1      1   \n",
      "3          1      0      1      0      1      1      0      1      1      1   \n",
      "4          1      0      1      0      1      1      0      1      1      1   \n",
      "5          1      0      1      0      1      1      0      1      1      1   \n",
      "...      ...    ...    ...    ...    ...    ...    ...    ...    ...    ...   \n",
      "9996       1      0      1      0      1      1      0      1      1      1   \n",
      "9997       1      0      1      0      1      1      0      1      1      1   \n",
      "9998       1      0      1      0      1      1      0      1      1      1   \n",
      "9999       1      0      1      0      1      1      0      1      1      1   \n",
      "10000      1      0      1      0      1      1      0      1      1      1   \n",
      "\n",
      "id     ...  9991   9992   9993   9994   9995   9996   9997   9998   9999   \\\n",
      "id     ...                                                                  \n",
      "1      ...      1      1      1      1      1      1      1      1      1   \n",
      "2      ...      1      1      1      1      1      1      1      1      1   \n",
      "3      ...      1      1      1      1      1      1      1      1      1   \n",
      "4      ...      1      1      1      1      1      1      1      1      1   \n",
      "5      ...      1      1      1      1      1      1      1      1      1   \n",
      "...    ...    ...    ...    ...    ...    ...    ...    ...    ...    ...   \n",
      "9996   ...      1      1      1      1      1      1      1      1      1   \n",
      "9997   ...      1      1      1      1      1      1      1      1      1   \n",
      "9998   ...      1      1      1      1      1      1      1      1      1   \n",
      "9999   ...      1      1      1      1      1      1      1      1      1   \n",
      "10000  ...      1      1      1      1      1      1      1      1      1   \n",
      "\n",
      "id     10000  \n",
      "id            \n",
      "1          1  \n",
      "2          1  \n",
      "3          1  \n",
      "4          1  \n",
      "5          1  \n",
      "...      ...  \n",
      "9996       1  \n",
      "9997       1  \n",
      "9998       1  \n",
      "9999       1  \n",
      "10000      1  \n",
      "\n",
      "[10000 rows x 10000 columns]\n"
     ]
    }
   ],
   "source": [
    "location_columns_students = [col for col in df_students.columns if col.startswith('location_')]\n",
    "location_columns_internships = [col for col in df_internships.columns if col.startswith('location_')]\n",
    "\n",
    "# Create a single 'location' column by summing the one-hot encoded columns\n",
    "df_students['location'] = df_students[location_columns_students].sum(axis=1)\n",
    "df_internships['location'] = df_internships[location_columns_internships].sum(axis=1)\n",
    "# Convert 'location' columns to integers (0 or 1)\n",
    "df_students['location'] = df_students['location'].astype(int)\n",
    "df_internships['location'] = df_internships['location'].astype(int)\n",
    "\n",
    "# Align the DataFrames to ensure they have the same columns\n",
    "df_students, df_internships = df_students.align(df_internships, join='outer', axis=1, fill_value=0)\n",
    "\n",
    "# Now perform the location match calculation using matrix multiplication\n",
    "location_match = np.dot(df_students[['location']].values, df_internships[['location']].values.T)\n",
    "\n",
    "# Convert the result to 1 for a match (if location_match > 0) and 0 for no match\n",
    "location_match = (location_match > 0).astype(int)\n",
    "\n",
    "# Convert the result to a DataFrame for easier reading\n",
    "location_match_df = pd.DataFrame(location_match, columns=df_internships['id'], index=df_students['id'])\n",
    "\n",
    "# Now you have a DataFrame that shows the location match between each student and each internship\n",
    "print(location_match_df)"
   ]
  },
  {
   "cell_type": "code",
   "execution_count": 50,
   "metadata": {
    "id": "gMWyk9SFMs2l"
   },
   "outputs": [
    {
     "name": "stdout",
     "output_type": "stream",
     "text": [
      "id        1         2         3         4         5         6         7      \\\n",
      "id                                                                            \n",
      "1      0.947081  0.475762  0.841198  0.881874  0.637078  0.835998  0.313396   \n",
      "2      0.882971  0.539871  0.905308  0.817764  0.701188  0.900107  0.377505   \n",
      "3      0.559872  0.862970  0.771594  0.494666  0.975714  0.776794  0.700604   \n",
      "4      0.908975  0.513867  0.879304  0.843768  0.675184  0.874104  0.351501   \n",
      "5      0.850816  0.572026  0.937463  0.785610  0.733342  0.932262  0.409660   \n",
      "...         ...       ...       ...       ...       ...       ...       ...   \n",
      "9996   0.786956  0.635886  0.998678  0.721750  0.797202  0.996122  0.473520   \n",
      "9997   0.263978  0.841136  0.475699  0.198772  0.679820  0.480900  0.996498   \n",
      "9998   0.924450  0.347293  0.712729  0.989657  0.508609  0.707529  0.184926   \n",
      "9999   0.876143  0.298985  0.664422  0.941349  0.460301  0.659221  0.136619   \n",
      "10000  0.353641  0.930799  0.565363  0.288435  0.769483  0.570563  0.906835   \n",
      "\n",
      "id        8         9         10     ...     9991      9992      9993   \\\n",
      "id                                   ...                                 \n",
      "1      0.803166  0.900776  0.779064  ...  0.953131  0.360600  0.374102   \n",
      "2      0.739057  0.836666  0.714954  ...  0.889021  0.424710  0.438211   \n",
      "3      0.415958  0.513568  0.391856  ...  0.565923  0.747808  0.761310   \n",
      "4      0.765060  0.862670  0.740958  ...  0.915025  0.398706  0.412207   \n",
      "5      0.706902  0.804511  0.682799  ...  0.856867  0.456865  0.470366   \n",
      "...         ...       ...       ...  ...       ...       ...       ...   \n",
      "9996   0.643042  0.740652  0.618940  ...  0.793007  0.520724  0.534226   \n",
      "9997   0.120064  0.217673  0.095961  ...  0.270029  0.956297  0.942796   \n",
      "9998   0.931635  0.970755  0.907533  ...  0.918400  0.232131  0.245632   \n",
      "9999   0.979943  0.922448  0.955840  ...  0.870092  0.183824  0.197325   \n",
      "10000  0.209727  0.307337  0.185625  ...  0.359692  0.954039  0.967541   \n",
      "\n",
      "id        9994      9995      9996      9997      9998      9999      10000  \n",
      "id                                                                           \n",
      "1      0.297044  0.722808  0.635028  0.956160  0.326847  0.562470  0.935258  \n",
      "2      0.361154  0.658698  0.699137  0.979731  0.390956  0.626580  0.999367  \n",
      "3      0.684252  0.335600  0.977764  0.656632  0.714055  0.949679  0.677534  \n",
      "4      0.335150  0.684702  0.673133  0.994266  0.364953  0.600576  0.973363  \n",
      "5      0.393308  0.626544  0.731292  0.947576  0.423111  0.658735  0.968478  \n",
      "...         ...       ...       ...       ...       ...       ...       ...  \n",
      "9996   0.457168  0.562684  0.795152  0.883716  0.486971  0.722594  0.904618  \n",
      "9997   0.980146  0.039706  0.681870  0.360738  0.990051  0.754427  0.381640  \n",
      "9998   0.168575  0.851277  0.506558  0.827691  0.198378  0.434001  0.806788  \n",
      "9999   0.120267  0.899585  0.458251  0.779383  0.150070  0.385694  0.758481  \n",
      "10000  0.890483  0.129369  0.771533  0.450401  0.920286  0.844091  0.471303  \n",
      "\n",
      "[10000 rows x 10000 columns]\n"
     ]
    }
   ],
   "source": [
    "\n",
    "\n",
    "# Calculate the maximum stipend value from both students and internships\n",
    "max_stipend = max(df_students['stipend_scaled'].max(), df_internships['stipend_scaled'].max())\n",
    "\n",
    "# Create a matrix of stipend differences between students and internships\n",
    "stipend_diff_matrix = np.abs(df_students['stipend_scaled'].values[:, np.newaxis] - df_internships['stipend_scaled'].values)\n",
    "\n",
    "# Normalize by dividing by the maximum stipend value\n",
    "stipend_similarity_matrix = 1 - (stipend_diff_matrix / max_stipend)\n",
    "\n",
    "# Convert to DataFrame for easier analysis\n",
    "stipend_similarity_df = pd.DataFrame(stipend_similarity_matrix, columns=df_internships['id'], index=df_students['id'])\n",
    "\n",
    "print(stipend_similarity_df)\n"
   ]
  },
  {
   "cell_type": "code",
   "execution_count": 51,
   "metadata": {
    "id": "QmFZbkivK0gn"
   },
   "outputs": [
    {
     "name": "stdout",
     "output_type": "stream",
     "text": [
      "   student_id  internship_id  skills_similarity  location_match  \\\n",
      "0           1              1           0.019098               1   \n",
      "1           1              2           0.038606               0   \n",
      "2           1              3           0.244108               1   \n",
      "3           1              4           0.230532               0   \n",
      "4           1              5           0.538899               1   \n",
      "\n",
      "   stipend_similarity  ranking_score  \n",
      "0            0.947081       0.498965  \n",
      "1            0.475762       0.114455  \n",
      "2            0.841198       0.590294  \n",
      "3            0.881874       0.291641  \n",
      "4            0.637078       0.696865  \n"
     ]
    }
   ],
   "source": [
    "# Convert all the similarities into matrices\n",
    "skills_similarity_matrix = np.array(skills_similarity)\n",
    "location_similarity_matrix = location_match_df.values\n",
    "stipend_similarity_matrix = stipend_similarity_df.values\n",
    "\n",
    "# Calculate the ranking scores using matrix operations\n",
    "ranking_scores_matrix = (0.5 * skills_similarity_matrix) + (0.3 * location_similarity_matrix) + (0.2 * stipend_similarity_matrix)\n",
    "\n",
    "# Create a DataFrame for the ranking scores\n",
    "ranking_data = {\n",
    "    'student_id': np.repeat(df_students['id'].values, len(df_internships)),\n",
    "    'internship_id': np.tile(df_internships['id'].values, len(df_students)),\n",
    "    'skills_similarity': skills_similarity_matrix.flatten(),\n",
    "    'location_match': location_similarity_matrix.flatten(),\n",
    "    'stipend_similarity': stipend_similarity_matrix.flatten(),\n",
    "    'ranking_score': ranking_scores_matrix.flatten()\n",
    "}\n",
    "\n",
    "ranking_df = pd.DataFrame(ranking_data)\n",
    "\n",
    "# Display the first few rows of the ranking DataFrame\n",
    "print(ranking_df.head())\n"
   ]
  },
  {
   "cell_type": "code",
   "execution_count": null,
   "metadata": {
    "id": "BJxZxSK-K3L2"
   },
   "outputs": [],
   "source": [
    "# Features for training\n",
    "X = ranking_df[['skills_similarity', 'location_match', 'stipend_similarity']]\n",
    "\n",
    "# Target (ranking_score)\n",
    "y = ranking_df['ranking_score']\n",
    "\n",
    "# Train-test split\n",
    "from sklearn.model_selection import train_test_split\n",
    "X_train, X_test, y_train, y_test = train_test_split(X, y, test_size=0.2, random_state=42)\n",
    "\n",
    "# Train an XGBoost regressor model\n",
    "import xgboost as xgb\n",
    "model = xgb.XGBRegressor(objective='reg:squarederror', eval_metric='rmse')\n",
    "model.fit(X_train, y_train)\n",
    "\n",
    "# Evaluate the model\n",
    "y_pred = model.predict(X_test)\n",
    "\n",
    "from sklearn.metrics import mean_squared_error\n",
    "mse = mean_squared_error(y_test, y_pred)\n",
    "print(f'Mean Squared Error: {mse}')\n",
    "\n"
   ]
  },
  {
   "cell_type": "code",
   "execution_count": null,
   "metadata": {
    "id": "W6i5ZNmkOXO7"
   },
   "outputs": [],
   "source": [
    "import joblib\n",
    "\n",
    "joblib.dump(model, \"C:/Users/Lenovo/xgboost_ranking_model.pkl\")\n",
    "print(\"Model saved successfully!\")\n"
   ]
  },
  {
   "cell_type": "code",
   "execution_count": 1,
   "metadata": {},
   "outputs": [],
   "source": [
    "import joblib\n",
    "model = joblib.load(\"C:/Users/Lenovo/xgboost_ranking_model.pkl\")\n"
   ]
  },
  {
   "cell_type": "code",
   "execution_count": 3,
   "metadata": {},
   "outputs": [
    {
     "name": "stdout",
     "output_type": "stream",
     "text": [
      "Requirement already satisfied: gradio in c:\\users\\lenovo\\appdata\\local\\programs\\python\\python313\\lib\\site-packages (5.23.3)\n",
      "Collecting aiofiles<24.0,>=22.0 (from gradio)\n",
      "  Using cached aiofiles-23.2.1-py3-none-any.whl.metadata (9.7 kB)\n",
      "Requirement already satisfied: anyio<5.0,>=3.0 in c:\\users\\lenovo\\appdata\\local\\programs\\python\\python313\\lib\\site-packages (from gradio) (4.6.2.post1)\n",
      "Requirement already satisfied: audioop-lts<1.0 in c:\\users\\lenovo\\appdata\\local\\programs\\python\\python313\\lib\\site-packages (from gradio) (0.2.1)\n",
      "Requirement already satisfied: fastapi<1.0,>=0.115.2 in c:\\users\\lenovo\\appdata\\local\\programs\\python\\python313\\lib\\site-packages (from gradio) (0.115.9)\n",
      "Requirement already satisfied: ffmpy in c:\\users\\lenovo\\appdata\\local\\programs\\python\\python313\\lib\\site-packages (from gradio) (0.5.0)\n",
      "Requirement already satisfied: gradio-client==1.8.0 in c:\\users\\lenovo\\appdata\\local\\programs\\python\\python313\\lib\\site-packages (from gradio) (1.8.0)\n",
      "Requirement already satisfied: groovy~=0.1 in c:\\users\\lenovo\\appdata\\local\\programs\\python\\python313\\lib\\site-packages (from gradio) (0.1.2)\n",
      "Requirement already satisfied: httpx>=0.24.1 in c:\\users\\lenovo\\appdata\\local\\programs\\python\\python313\\lib\\site-packages (from gradio) (0.28.1)\n",
      "Requirement already satisfied: huggingface-hub>=0.28.1 in c:\\users\\lenovo\\appdata\\local\\programs\\python\\python313\\lib\\site-packages (from gradio) (0.29.2)\n",
      "Requirement already satisfied: jinja2<4.0 in c:\\users\\lenovo\\appdata\\local\\programs\\python\\python313\\lib\\site-packages (from gradio) (3.1.4)\n",
      "Requirement already satisfied: markupsafe<4.0,>=2.0 in c:\\users\\lenovo\\appdata\\local\\programs\\python\\python313\\lib\\site-packages (from gradio) (3.0.1)\n",
      "Requirement already satisfied: numpy<3.0,>=1.0 in c:\\users\\lenovo\\appdata\\local\\programs\\python\\python313\\lib\\site-packages (from gradio) (2.1.2)\n",
      "Requirement already satisfied: orjson~=3.0 in c:\\users\\lenovo\\appdata\\local\\programs\\python\\python313\\lib\\site-packages (from gradio) (3.10.15)\n",
      "Requirement already satisfied: packaging in c:\\users\\lenovo\\appdata\\local\\programs\\python\\python313\\lib\\site-packages (from gradio) (24.1)\n",
      "Requirement already satisfied: pandas<3.0,>=1.0 in c:\\users\\lenovo\\appdata\\local\\programs\\python\\python313\\lib\\site-packages (from gradio) (2.2.3)\n",
      "Requirement already satisfied: pillow<12.0,>=8.0 in c:\\users\\lenovo\\appdata\\local\\programs\\python\\python313\\lib\\site-packages (from gradio) (10.4.0)\n",
      "Requirement already satisfied: pydantic<2.12,>=2.0 in c:\\users\\lenovo\\appdata\\local\\programs\\python\\python313\\lib\\site-packages (from gradio) (2.10.6)\n",
      "Requirement already satisfied: pydub in c:\\users\\lenovo\\appdata\\local\\programs\\python\\python313\\lib\\site-packages (from gradio) (0.25.1)\n",
      "Requirement already satisfied: python-multipart>=0.0.18 in c:\\users\\lenovo\\appdata\\local\\programs\\python\\python313\\lib\\site-packages (from gradio) (0.0.20)\n",
      "Requirement already satisfied: pyyaml<7.0,>=5.0 in c:\\users\\lenovo\\appdata\\local\\programs\\python\\python313\\lib\\site-packages (from gradio) (6.0.2)\n",
      "Requirement already satisfied: ruff>=0.9.3 in c:\\users\\lenovo\\appdata\\local\\programs\\python\\python313\\lib\\site-packages (from gradio) (0.11.3)\n",
      "Requirement already satisfied: safehttpx<0.2.0,>=0.1.6 in c:\\users\\lenovo\\appdata\\local\\programs\\python\\python313\\lib\\site-packages (from gradio) (0.1.6)\n",
      "Requirement already satisfied: semantic-version~=2.0 in c:\\users\\lenovo\\appdata\\local\\programs\\python\\python313\\lib\\site-packages (from gradio) (2.10.0)\n",
      "Requirement already satisfied: starlette<1.0,>=0.40.0 in c:\\users\\lenovo\\appdata\\local\\programs\\python\\python313\\lib\\site-packages (from gradio) (0.45.3)\n",
      "Requirement already satisfied: tomlkit<0.14.0,>=0.12.0 in c:\\users\\lenovo\\appdata\\local\\programs\\python\\python313\\lib\\site-packages (from gradio) (0.13.2)\n",
      "Requirement already satisfied: typer<1.0,>=0.12 in c:\\users\\lenovo\\appdata\\local\\programs\\python\\python313\\lib\\site-packages (from gradio) (0.15.2)\n",
      "Requirement already satisfied: typing-extensions~=4.0 in c:\\users\\lenovo\\appdata\\local\\programs\\python\\python313\\lib\\site-packages (from gradio) (4.12.2)\n",
      "Requirement already satisfied: uvicorn>=0.14.0 in c:\\users\\lenovo\\appdata\\local\\programs\\python\\python313\\lib\\site-packages (from gradio) (0.34.0)\n",
      "Requirement already satisfied: fsspec in c:\\users\\lenovo\\appdata\\local\\programs\\python\\python313\\lib\\site-packages (from gradio-client==1.8.0->gradio) (2025.2.0)\n",
      "Requirement already satisfied: websockets<16.0,>=10.0 in c:\\users\\lenovo\\appdata\\local\\programs\\python\\python313\\lib\\site-packages (from gradio-client==1.8.0->gradio) (14.2)\n",
      "Requirement already satisfied: idna>=2.8 in c:\\users\\lenovo\\appdata\\local\\programs\\python\\python313\\lib\\site-packages (from anyio<5.0,>=3.0->gradio) (3.10)\n",
      "Requirement already satisfied: sniffio>=1.1 in c:\\users\\lenovo\\appdata\\local\\programs\\python\\python313\\lib\\site-packages (from anyio<5.0,>=3.0->gradio) (1.3.1)\n",
      "Requirement already satisfied: certifi in c:\\users\\lenovo\\appdata\\local\\programs\\python\\python313\\lib\\site-packages (from httpx>=0.24.1->gradio) (2024.8.30)\n",
      "Requirement already satisfied: httpcore==1.* in c:\\users\\lenovo\\appdata\\local\\programs\\python\\python313\\lib\\site-packages (from httpx>=0.24.1->gradio) (1.0.6)\n",
      "Requirement already satisfied: h11<0.15,>=0.13 in c:\\users\\lenovo\\appdata\\local\\programs\\python\\python313\\lib\\site-packages (from httpcore==1.*->httpx>=0.24.1->gradio) (0.14.0)\n",
      "Requirement already satisfied: filelock in c:\\users\\lenovo\\appdata\\local\\programs\\python\\python313\\lib\\site-packages (from huggingface-hub>=0.28.1->gradio) (3.17.0)\n",
      "Requirement already satisfied: requests in c:\\users\\lenovo\\appdata\\local\\programs\\python\\python313\\lib\\site-packages (from huggingface-hub>=0.28.1->gradio) (2.32.3)\n",
      "Requirement already satisfied: tqdm>=4.42.1 in c:\\users\\lenovo\\appdata\\local\\programs\\python\\python313\\lib\\site-packages (from huggingface-hub>=0.28.1->gradio) (4.66.5)\n",
      "Requirement already satisfied: python-dateutil>=2.8.2 in c:\\users\\lenovo\\appdata\\local\\programs\\python\\python313\\lib\\site-packages (from pandas<3.0,>=1.0->gradio) (2.9.0.post0)\n",
      "Requirement already satisfied: pytz>=2020.1 in c:\\users\\lenovo\\appdata\\local\\programs\\python\\python313\\lib\\site-packages (from pandas<3.0,>=1.0->gradio) (2024.2)\n",
      "Requirement already satisfied: tzdata>=2022.7 in c:\\users\\lenovo\\appdata\\local\\programs\\python\\python313\\lib\\site-packages (from pandas<3.0,>=1.0->gradio) (2024.2)\n",
      "Requirement already satisfied: annotated-types>=0.6.0 in c:\\users\\lenovo\\appdata\\local\\programs\\python\\python313\\lib\\site-packages (from pydantic<2.12,>=2.0->gradio) (0.7.0)\n",
      "Requirement already satisfied: pydantic-core==2.27.2 in c:\\users\\lenovo\\appdata\\local\\programs\\python\\python313\\lib\\site-packages (from pydantic<2.12,>=2.0->gradio) (2.27.2)\n",
      "Requirement already satisfied: click>=8.0.0 in c:\\users\\lenovo\\appdata\\local\\programs\\python\\python313\\lib\\site-packages (from typer<1.0,>=0.12->gradio) (8.1.7)\n",
      "Requirement already satisfied: shellingham>=1.3.0 in c:\\users\\lenovo\\appdata\\local\\programs\\python\\python313\\lib\\site-packages (from typer<1.0,>=0.12->gradio) (1.5.4)\n",
      "Requirement already satisfied: rich>=10.11.0 in c:\\users\\lenovo\\appdata\\local\\programs\\python\\python313\\lib\\site-packages (from typer<1.0,>=0.12->gradio) (13.9.4)\n",
      "Requirement already satisfied: colorama in c:\\users\\lenovo\\appdata\\local\\programs\\python\\python313\\lib\\site-packages (from click>=8.0.0->typer<1.0,>=0.12->gradio) (0.4.6)\n",
      "Requirement already satisfied: six>=1.5 in c:\\users\\lenovo\\appdata\\local\\programs\\python\\python313\\lib\\site-packages (from python-dateutil>=2.8.2->pandas<3.0,>=1.0->gradio) (1.16.0)\n",
      "Requirement already satisfied: markdown-it-py>=2.2.0 in c:\\users\\lenovo\\appdata\\local\\programs\\python\\python313\\lib\\site-packages (from rich>=10.11.0->typer<1.0,>=0.12->gradio) (3.0.0)\n",
      "Requirement already satisfied: pygments<3.0.0,>=2.13.0 in c:\\users\\lenovo\\appdata\\local\\programs\\python\\python313\\lib\\site-packages (from rich>=10.11.0->typer<1.0,>=0.12->gradio) (2.18.0)\n",
      "Requirement already satisfied: charset-normalizer<4,>=2 in c:\\users\\lenovo\\appdata\\local\\programs\\python\\python313\\lib\\site-packages (from requests->huggingface-hub>=0.28.1->gradio) (3.4.0)\n",
      "Requirement already satisfied: urllib3<3,>=1.21.1 in c:\\users\\lenovo\\appdata\\local\\programs\\python\\python313\\lib\\site-packages (from requests->huggingface-hub>=0.28.1->gradio) (2.2.3)\n",
      "Requirement already satisfied: mdurl~=0.1 in c:\\users\\lenovo\\appdata\\local\\programs\\python\\python313\\lib\\site-packages (from markdown-it-py>=2.2.0->rich>=10.11.0->typer<1.0,>=0.12->gradio) (0.1.2)\n",
      "Using cached aiofiles-23.2.1-py3-none-any.whl (15 kB)\n",
      "Installing collected packages: aiofiles\n",
      "  Attempting uninstall: aiofiles\n",
      "    Found existing installation: aiofiles 24.1.0\n",
      "    Uninstalling aiofiles-24.1.0:\n",
      "      Successfully uninstalled aiofiles-24.1.0\n",
      "Successfully installed aiofiles-23.2.1\n",
      "Note: you may need to restart the kernel to use updated packages.\n"
     ]
    },
    {
     "name": "stderr",
     "output_type": "stream",
     "text": [
      "ERROR: pip's dependency resolver does not currently take into account all the packages that are installed. This behaviour is the source of the following dependency conflicts.\n",
      "crawl4ai 0.5.0.post8 requires aiofiles>=24.1.0, but you have aiofiles 23.2.1 which is incompatible.\n"
     ]
    }
   ],
   "source": [
    "pip install gradio"
   ]
  },
  {
   "cell_type": "code",
   "execution_count": 7,
   "metadata": {},
   "outputs": [
    {
     "name": "stdout",
     "output_type": "stream",
     "text": [
      "* Running on local URL:  http://127.0.0.1:7861\n",
      "\n",
      "To create a public link, set `share=True` in `launch()`.\n"
     ]
    },
    {
     "data": {
      "text/html": [
       "<div><iframe src=\"http://127.0.0.1:7861/\" width=\"100%\" height=\"500\" allow=\"autoplay; camera; microphone; clipboard-read; clipboard-write;\" frameborder=\"0\" allowfullscreen></iframe></div>"
      ],
      "text/plain": [
       "<IPython.core.display.HTML object>"
      ]
     },
     "metadata": {},
     "output_type": "display_data"
    },
    {
     "name": "stderr",
     "output_type": "stream",
     "text": [
      "C:\\Users\\Lenovo\\AppData\\Local\\Temp\\ipykernel_3844\\3589805857.py:45: SettingWithCopyWarning: \n",
      "A value is trying to be set on a copy of a slice from a DataFrame.\n",
      "Try using .loc[row_indexer,col_indexer] = value instead\n",
      "\n",
      "See the caveats in the documentation: https://pandas.pydata.org/pandas-docs/stable/user_guide/indexing.html#returning-a-view-versus-a-copy\n",
      "  matching_internships['predicted_score'] = y_pred\n",
      "C:\\Users\\Lenovo\\AppData\\Local\\Temp\\ipykernel_3844\\3589805857.py:45: SettingWithCopyWarning: \n",
      "A value is trying to be set on a copy of a slice from a DataFrame.\n",
      "Try using .loc[row_indexer,col_indexer] = value instead\n",
      "\n",
      "See the caveats in the documentation: https://pandas.pydata.org/pandas-docs/stable/user_guide/indexing.html#returning-a-view-versus-a-copy\n",
      "  matching_internships['predicted_score'] = y_pred\n",
      "C:\\Users\\Lenovo\\AppData\\Local\\Temp\\ipykernel_3844\\3589805857.py:45: SettingWithCopyWarning: \n",
      "A value is trying to be set on a copy of a slice from a DataFrame.\n",
      "Try using .loc[row_indexer,col_indexer] = value instead\n",
      "\n",
      "See the caveats in the documentation: https://pandas.pydata.org/pandas-docs/stable/user_guide/indexing.html#returning-a-view-versus-a-copy\n",
      "  matching_internships['predicted_score'] = y_pred\n",
      "C:\\Users\\Lenovo\\AppData\\Local\\Temp\\ipykernel_3844\\3589805857.py:45: SettingWithCopyWarning: \n",
      "A value is trying to be set on a copy of a slice from a DataFrame.\n",
      "Try using .loc[row_indexer,col_indexer] = value instead\n",
      "\n",
      "See the caveats in the documentation: https://pandas.pydata.org/pandas-docs/stable/user_guide/indexing.html#returning-a-view-versus-a-copy\n",
      "  matching_internships['predicted_score'] = y_pred\n"
     ]
    }
   ],
   "source": [
    "import joblib\n",
    "import pandas as pd\n",
    "import numpy as np\n",
    "import gradio as gr\n",
    "from sklearn.preprocessing import LabelEncoder\n",
    "\n",
    "# Load the trained model and dataset\n",
    "model = joblib.load(\"C:/Users/Lenovo/xgboost_ranking_model.pkl\")\n",
    "df_internships = pd.read_csv(\"C:/Users/Lenovo/internships_india.csv\")\n",
    "\n",
    "# Preprocess dataset\n",
    "df_internships['skills_required'] = df_internships['skills_required'].astype(str).str.lower().str.replace(r'\\s+', ' ', regex=True).str.strip()\n",
    "df_internships['location'] = df_internships['location'].astype(str).str.lower().str.replace(r'\\s+', ' ', regex=True).str.strip()\n",
    "\n",
    "# Skill similarity function\n",
    "def compute_skill_similarity(skills_required, user_skills):\n",
    "    internship_skills = set(skills_required.split(\", \"))  \n",
    "    matching_skills = internship_skills.intersection(user_skills)  \n",
    "    return len(matching_skills) / max(len(user_skills), 1)\n",
    "\n",
    "# **Main prediction function**\n",
    "def recommend_internships(skills, location, stipend):\n",
    "    skills = skills.lower().strip()\n",
    "    location = location.lower().strip()\n",
    "    stipend = float(stipend)\n",
    "\n",
    "    user_skills = {skill.strip() for skill in skills.split(\",\") if skill.strip()}\n",
    "\n",
    "    df_internships['skills_similarity'] = df_internships['skills_required'].apply(lambda x: compute_skill_similarity(x, user_skills))\n",
    "    df_internships['location_match'] = (df_internships['location'] == location).astype(int)\n",
    "    df_internships['stipend_similarity'] = 1 - (abs(df_internships['stipend'] - stipend) / max(stipend, 1))\n",
    "\n",
    "    matching_internships = df_internships[(df_internships['skills_similarity'] > 0) & (df_internships['location_match'] == 1)]\n",
    "\n",
    "    if matching_internships.empty:\n",
    "        return \"No internships found for your input.\"\n",
    "\n",
    "    input_data = matching_internships[['skills_similarity', 'stipend_similarity', 'location_match']]\n",
    "    \n",
    "    # Ensure feature order matches the trained model\n",
    "    input_data = input_data[['skills_similarity', 'location_match', 'stipend_similarity']]\n",
    "\n",
    "    y_pred = model.predict(input_data)\n",
    "\n",
    "    matching_internships['predicted_score'] = y_pred\n",
    "    matching_internships = matching_internships.sort_values(by=[\"skills_similarity\", \"stipend_similarity\", \"predicted_score\"], ascending=[False, False, False])\n",
    "\n",
    "    top_internships = matching_internships.head(10)\n",
    "\n",
    "    # Format output as a readable HTML table\n",
    "    result_html = f\"\"\"\n",
    "    <style>\n",
    "        table {{\n",
    "            width: 100%;\n",
    "            border-collapse: collapse;\n",
    "            font-size: 16px;\n",
    "            text-align: left;\n",
    "        }}\n",
    "        th, td {{\n",
    "            padding: 10px;\n",
    "            border-bottom: 1px solid #ddd;\n",
    "        }}\n",
    "        th {{\n",
    "            background-color: #4CAF50;\n",
    "            color: white;\n",
    "        }}\n",
    "        tr:nth-child(even) {{ background-color: #f2f2f2; }}\n",
    "        tr:hover {{ background-color: #ddd; }}\n",
    "    </style>\n",
    "    <h3>🔍 Top Internship Recommendations</h3>\n",
    "    <table>\n",
    "        <tr>\n",
    "            <th>Company</th>\n",
    "            <th>Skills Required</th>\n",
    "            <th>Location</th>\n",
    "            <th>Stipend (₹)</th>\n",
    "            <th>Predicted Score</th>\n",
    "        </tr>\n",
    "    \"\"\"\n",
    "\n",
    "    for _, row in top_internships.iterrows():\n",
    "        result_html += f\"\"\"\n",
    "        <tr>\n",
    "            <td>{row['company_name']}</td>\n",
    "            <td>{row['skills_required']}</td>\n",
    "            <td>{row['location'].capitalize()}</td>\n",
    "            <td>₹ {int(row['stipend'])}</td>\n",
    "            <td>{round(row['predicted_score'], 4)}</td>\n",
    "        </tr>\n",
    "        \"\"\"\n",
    "\n",
    "    result_html += \"</table>\"\n",
    "    return result_html\n",
    "\n",
    "# **Gradio UI**\n",
    "interface = gr.Interface(\n",
    "    fn=recommend_internships,\n",
    "    inputs=[\n",
    "        gr.Textbox(label=\"🎯 Enter Skills (e.g., C++, Python, Data Science)\", placeholder=\"C++, Python, ML\"),\n",
    "        gr.Textbox(label=\"📍 Enter Location (e.g., Bangalore, Mumbai)\", placeholder=\"Mumbai\"),\n",
    "        gr.Number(label=\"💰 Expected Stipend (₹)\", value=5000)\n",
    "    ],\n",
    "    outputs=gr.HTML(),\n",
    "    title=\"🚀 Internship Recommendation System\",\n",
    "    description=\"🔎 Find the **best internships** based on your **skills, location, and stipend expectations**. Just enter your details and get recommendations!\",\n",
    "    theme=\"default\"\n",
    ")\n",
    "\n",
    "# Run the Gradio app\n",
    "if __name__ == \"__main__\":\n",
    "    interface.launch()\n"
   ]
  },
  {
   "cell_type": "code",
   "execution_count": null,
   "metadata": {},
   "outputs": [],
   "source": []
  }
 ],
 "metadata": {
  "colab": {
   "provenance": []
  },
  "kernelspec": {
   "display_name": "Python 3 (ipykernel)",
   "language": "python",
   "name": "python3"
  },
  "language_info": {
   "codemirror_mode": {
    "name": "ipython",
    "version": 3
   },
   "file_extension": ".py",
   "mimetype": "text/x-python",
   "name": "python",
   "nbconvert_exporter": "python",
   "pygments_lexer": "ipython3",
   "version": "3.13.0"
  }
 },
 "nbformat": 4,
 "nbformat_minor": 4
}
